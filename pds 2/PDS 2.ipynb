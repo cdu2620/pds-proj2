{
 "cells": [
  {
   "cell_type": "code",
   "execution_count": 1,
   "metadata": {
    "colab": {},
    "colab_type": "code",
    "id": "4Tn2LE8WGMIR"
   },
   "outputs": [],
   "source": [
    "import pandas as pd"
   ]
  },
  {
   "cell_type": "markdown",
   "metadata": {
    "colab_type": "text",
    "id": "fTds_jLQ9mHw"
   },
   "source": [
    "We wanted to analyze award nominated movies and determine what features of a movie would best predict whether a movie would be nominated for Best Picture at the Oscars or not. Conducting this research would be valuable, because it will allow movie studios to more accurately evaluate their films’ chances of being nominated. In a combination of the ideal film topic, rating, duration, and prior awards buzz, studios can budget accordingly to maximize both buzz and box office gross. Studios may also be able to find out what the Academy and audience members value most about their movies."
   ]
  },
  {
   "cell_type": "markdown",
   "metadata": {
    "colab_type": "text",
    "id": "akzG5n3W1XVc"
   },
   "source": [
    "##### We used 4 different datasets in total. With the  datasets, we wanted to merge them to get a robust dataset with more features that we could utilize for the machine learning portion of the section. "
   ]
  },
  {
   "cell_type": "markdown",
   "metadata": {
    "colab_type": "text",
    "id": "3LKuPwviudIO"
   },
   "source": [
    "# Data Cleaning\n",
    "\n"
   ]
  },
  {
   "cell_type": "markdown",
   "metadata": {
    "colab_type": "text",
    "id": "Aab8xvtS1qUw"
   },
   "source": [
    "We first used the ‘final_dataset_with_rater_wins’ dataset and cleaned the data. This dataset contained information about the genres, title, rating, and runtime of Best Picture nominees from 1944-2018. "
   ]
  },
  {
   "cell_type": "code",
   "execution_count": 2,
   "metadata": {
    "colab": {},
    "colab_type": "code",
    "id": "gnxgidgzGSix"
   },
   "outputs": [],
   "source": [
    "oscar_nominees = pd.read_csv('Final_Dataset_with_rater_wins.csv')"
   ]
  },
  {
   "cell_type": "code",
   "execution_count": 3,
   "metadata": {
    "colab": {},
    "colab_type": "code",
    "id": "enzAuNQcGZJr"
   },
   "outputs": [],
   "source": [
    "oscar_nominees = oscar_nominees[['year', 'category', 'winner', 'title', 'genres', 'IMDBRating', 'runtimeMinutes']]\n",
    "oscar_nominees.columns = ['year', 'category', 'winner', 'title', 'genres', 'rating', 'runtimeMinutes']"
   ]
  },
  {
   "cell_type": "code",
   "execution_count": 4,
   "metadata": {
    "colab": {
     "base_uri": "https://localhost:8080/",
     "height": 204
    },
    "colab_type": "code",
    "id": "8aUw2qCTIegx",
    "outputId": "8d609441-d51c-4603-d255-04ae607b7ab4"
   },
   "outputs": [
    {
     "data": {
      "text/html": [
       "<div>\n",
       "<style scoped>\n",
       "    .dataframe tbody tr th:only-of-type {\n",
       "        vertical-align: middle;\n",
       "    }\n",
       "\n",
       "    .dataframe tbody tr th {\n",
       "        vertical-align: top;\n",
       "    }\n",
       "\n",
       "    .dataframe thead th {\n",
       "        text-align: right;\n",
       "    }\n",
       "</style>\n",
       "<table border=\"1\" class=\"dataframe\">\n",
       "  <thead>\n",
       "    <tr style=\"text-align: right;\">\n",
       "      <th></th>\n",
       "      <th>year</th>\n",
       "      <th>category</th>\n",
       "      <th>winner</th>\n",
       "      <th>title</th>\n",
       "      <th>genres</th>\n",
       "      <th>rating</th>\n",
       "      <th>runtimeMinutes</th>\n",
       "    </tr>\n",
       "  </thead>\n",
       "  <tbody>\n",
       "    <tr>\n",
       "      <th>0</th>\n",
       "      <td>1944</td>\n",
       "      <td>BEST PICTURE</td>\n",
       "      <td>0</td>\n",
       "      <td>Double Indemnity</td>\n",
       "      <td>Crime|Drama|Film-Noir</td>\n",
       "      <td>8.3</td>\n",
       "      <td>107</td>\n",
       "    </tr>\n",
       "    <tr>\n",
       "      <th>1</th>\n",
       "      <td>1944</td>\n",
       "      <td>BEST PICTURE</td>\n",
       "      <td>0</td>\n",
       "      <td>Gaslight</td>\n",
       "      <td>Drama|Thriller</td>\n",
       "      <td>7.8</td>\n",
       "      <td>114</td>\n",
       "    </tr>\n",
       "    <tr>\n",
       "      <th>2</th>\n",
       "      <td>1944</td>\n",
       "      <td>BEST PICTURE</td>\n",
       "      <td>1</td>\n",
       "      <td>Going My Way</td>\n",
       "      <td>Comedy|Drama|Musical</td>\n",
       "      <td>7.2</td>\n",
       "      <td>126</td>\n",
       "    </tr>\n",
       "    <tr>\n",
       "      <th>3</th>\n",
       "      <td>1944</td>\n",
       "      <td>BEST PICTURE</td>\n",
       "      <td>0</td>\n",
       "      <td>Since You Went Away</td>\n",
       "      <td>Drama|War</td>\n",
       "      <td>7.6</td>\n",
       "      <td>177</td>\n",
       "    </tr>\n",
       "    <tr>\n",
       "      <th>4</th>\n",
       "      <td>1944</td>\n",
       "      <td>BEST PICTURE</td>\n",
       "      <td>0</td>\n",
       "      <td>Wilson</td>\n",
       "      <td>Drama</td>\n",
       "      <td>6.8</td>\n",
       "      <td>154</td>\n",
       "    </tr>\n",
       "  </tbody>\n",
       "</table>\n",
       "</div>"
      ],
      "text/plain": [
       "   year      category  winner                title                 genres  \\\n",
       "0  1944  BEST PICTURE       0     Double Indemnity  Crime|Drama|Film-Noir   \n",
       "1  1944  BEST PICTURE       0             Gaslight         Drama|Thriller   \n",
       "2  1944  BEST PICTURE       1         Going My Way   Comedy|Drama|Musical   \n",
       "3  1944  BEST PICTURE       0  Since You Went Away              Drama|War   \n",
       "4  1944  BEST PICTURE       0               Wilson                  Drama   \n",
       "\n",
       "   rating  runtimeMinutes  \n",
       "0     8.3             107  \n",
       "1     7.8             114  \n",
       "2     7.2             126  \n",
       "3     7.6             177  \n",
       "4     6.8             154  "
      ]
     },
     "execution_count": 4,
     "metadata": {},
     "output_type": "execute_result"
    }
   ],
   "source": [
    "oscar_nominees.head()"
   ]
  },
  {
   "cell_type": "markdown",
   "metadata": {
    "colab_type": "text",
    "id": "doSFSCsN4Vg2"
   },
   "source": [
    "Next, we looked at IMDB's set of movies in their database, in order to add some non-Oscar nominated movies into our data."
   ]
  },
  {
   "cell_type": "code",
   "execution_count": 5,
   "metadata": {
    "colab": {},
    "colab_type": "code",
    "id": "wVdt6sqDGbTc"
   },
   "outputs": [],
   "source": [
    "imdb_title = pd.read_csv(\"title.basics.tsv\", sep='\\t')"
   ]
  },
  {
   "cell_type": "code",
   "execution_count": 6,
   "metadata": {
    "colab": {
     "base_uri": "https://localhost:8080/",
     "height": 221
    },
    "colab_type": "code",
    "id": "iLl6ldQvGlyT",
    "outputId": "4a91a819-8ce0-4b91-dac9-39c79f31b895"
   },
   "outputs": [
    {
     "data": {
      "text/html": [
       "<div>\n",
       "<style scoped>\n",
       "    .dataframe tbody tr th:only-of-type {\n",
       "        vertical-align: middle;\n",
       "    }\n",
       "\n",
       "    .dataframe tbody tr th {\n",
       "        vertical-align: top;\n",
       "    }\n",
       "\n",
       "    .dataframe thead th {\n",
       "        text-align: right;\n",
       "    }\n",
       "</style>\n",
       "<table border=\"1\" class=\"dataframe\">\n",
       "  <thead>\n",
       "    <tr style=\"text-align: right;\">\n",
       "      <th></th>\n",
       "      <th>tconst</th>\n",
       "      <th>titleType</th>\n",
       "      <th>primaryTitle</th>\n",
       "      <th>originalTitle</th>\n",
       "      <th>isAdult</th>\n",
       "      <th>startYear</th>\n",
       "      <th>endYear</th>\n",
       "      <th>runtimeMinutes</th>\n",
       "      <th>genres</th>\n",
       "    </tr>\n",
       "  </thead>\n",
       "  <tbody>\n",
       "    <tr>\n",
       "      <th>0</th>\n",
       "      <td>tt0000001</td>\n",
       "      <td>short</td>\n",
       "      <td>Carmencita</td>\n",
       "      <td>Carmencita</td>\n",
       "      <td>0</td>\n",
       "      <td>1894</td>\n",
       "      <td>\\N</td>\n",
       "      <td>1</td>\n",
       "      <td>Documentary,Short</td>\n",
       "    </tr>\n",
       "    <tr>\n",
       "      <th>1</th>\n",
       "      <td>tt0000002</td>\n",
       "      <td>short</td>\n",
       "      <td>Le clown et ses chiens</td>\n",
       "      <td>Le clown et ses chiens</td>\n",
       "      <td>0</td>\n",
       "      <td>1892</td>\n",
       "      <td>\\N</td>\n",
       "      <td>5</td>\n",
       "      <td>Animation,Short</td>\n",
       "    </tr>\n",
       "    <tr>\n",
       "      <th>2</th>\n",
       "      <td>tt0000003</td>\n",
       "      <td>short</td>\n",
       "      <td>Pauvre Pierrot</td>\n",
       "      <td>Pauvre Pierrot</td>\n",
       "      <td>0</td>\n",
       "      <td>1892</td>\n",
       "      <td>\\N</td>\n",
       "      <td>4</td>\n",
       "      <td>Animation,Comedy,Romance</td>\n",
       "    </tr>\n",
       "    <tr>\n",
       "      <th>3</th>\n",
       "      <td>tt0000004</td>\n",
       "      <td>short</td>\n",
       "      <td>Un bon bock</td>\n",
       "      <td>Un bon bock</td>\n",
       "      <td>0</td>\n",
       "      <td>1892</td>\n",
       "      <td>\\N</td>\n",
       "      <td>\\N</td>\n",
       "      <td>Animation,Short</td>\n",
       "    </tr>\n",
       "    <tr>\n",
       "      <th>4</th>\n",
       "      <td>tt0000005</td>\n",
       "      <td>short</td>\n",
       "      <td>Blacksmith Scene</td>\n",
       "      <td>Blacksmith Scene</td>\n",
       "      <td>0</td>\n",
       "      <td>1893</td>\n",
       "      <td>\\N</td>\n",
       "      <td>1</td>\n",
       "      <td>Comedy,Short</td>\n",
       "    </tr>\n",
       "  </tbody>\n",
       "</table>\n",
       "</div>"
      ],
      "text/plain": [
       "      tconst titleType            primaryTitle           originalTitle  \\\n",
       "0  tt0000001     short              Carmencita              Carmencita   \n",
       "1  tt0000002     short  Le clown et ses chiens  Le clown et ses chiens   \n",
       "2  tt0000003     short          Pauvre Pierrot          Pauvre Pierrot   \n",
       "3  tt0000004     short             Un bon bock             Un bon bock   \n",
       "4  tt0000005     short        Blacksmith Scene        Blacksmith Scene   \n",
       "\n",
       "   isAdult startYear endYear runtimeMinutes                    genres  \n",
       "0        0      1894      \\N              1         Documentary,Short  \n",
       "1        0      1892      \\N              5           Animation,Short  \n",
       "2        0      1892      \\N              4  Animation,Comedy,Romance  \n",
       "3        0      1892      \\N             \\N           Animation,Short  \n",
       "4        0      1893      \\N              1              Comedy,Short  "
      ]
     },
     "execution_count": 6,
     "metadata": {},
     "output_type": "execute_result"
    }
   ],
   "source": [
    "imdb_title.head()"
   ]
  },
  {
   "cell_type": "code",
   "execution_count": 7,
   "metadata": {
    "colab": {},
    "colab_type": "code",
    "id": "8b1VyFlgJ5Dz"
   },
   "outputs": [],
   "source": [
    "imdb_rating = pd.read_csv(\"title.ratings.tsv\", sep='\\t')\n",
    "imdb_data = imdb_title.merge(imdb_rating, on = \"tconst\", how=\"inner\")"
   ]
  },
  {
   "cell_type": "code",
   "execution_count": 8,
   "metadata": {
    "colab": {
     "base_uri": "https://localhost:8080/",
     "height": 258
    },
    "colab_type": "code",
    "id": "XI11tmgKCpiW",
    "outputId": "30e7f3e4-7e1a-4fbb-8fc6-cd63eeaab8a0"
   },
   "outputs": [
    {
     "data": {
      "text/html": [
       "<div>\n",
       "<style scoped>\n",
       "    .dataframe tbody tr th:only-of-type {\n",
       "        vertical-align: middle;\n",
       "    }\n",
       "\n",
       "    .dataframe tbody tr th {\n",
       "        vertical-align: top;\n",
       "    }\n",
       "\n",
       "    .dataframe thead th {\n",
       "        text-align: right;\n",
       "    }\n",
       "</style>\n",
       "<table border=\"1\" class=\"dataframe\">\n",
       "  <thead>\n",
       "    <tr style=\"text-align: right;\">\n",
       "      <th></th>\n",
       "      <th>tconst</th>\n",
       "      <th>titleType</th>\n",
       "      <th>primaryTitle</th>\n",
       "      <th>originalTitle</th>\n",
       "      <th>isAdult</th>\n",
       "      <th>startYear</th>\n",
       "      <th>endYear</th>\n",
       "      <th>runtimeMinutes</th>\n",
       "      <th>genres</th>\n",
       "      <th>averageRating</th>\n",
       "      <th>numVotes</th>\n",
       "    </tr>\n",
       "  </thead>\n",
       "  <tbody>\n",
       "    <tr>\n",
       "      <th>0</th>\n",
       "      <td>tt0000001</td>\n",
       "      <td>short</td>\n",
       "      <td>Carmencita</td>\n",
       "      <td>Carmencita</td>\n",
       "      <td>0</td>\n",
       "      <td>1894</td>\n",
       "      <td>\\N</td>\n",
       "      <td>1</td>\n",
       "      <td>Documentary,Short</td>\n",
       "      <td>5.8</td>\n",
       "      <td>1486</td>\n",
       "    </tr>\n",
       "    <tr>\n",
       "      <th>1</th>\n",
       "      <td>tt0000002</td>\n",
       "      <td>short</td>\n",
       "      <td>Le clown et ses chiens</td>\n",
       "      <td>Le clown et ses chiens</td>\n",
       "      <td>0</td>\n",
       "      <td>1892</td>\n",
       "      <td>\\N</td>\n",
       "      <td>5</td>\n",
       "      <td>Animation,Short</td>\n",
       "      <td>6.4</td>\n",
       "      <td>179</td>\n",
       "    </tr>\n",
       "    <tr>\n",
       "      <th>2</th>\n",
       "      <td>tt0000003</td>\n",
       "      <td>short</td>\n",
       "      <td>Pauvre Pierrot</td>\n",
       "      <td>Pauvre Pierrot</td>\n",
       "      <td>0</td>\n",
       "      <td>1892</td>\n",
       "      <td>\\N</td>\n",
       "      <td>4</td>\n",
       "      <td>Animation,Comedy,Romance</td>\n",
       "      <td>6.6</td>\n",
       "      <td>1119</td>\n",
       "    </tr>\n",
       "    <tr>\n",
       "      <th>3</th>\n",
       "      <td>tt0000004</td>\n",
       "      <td>short</td>\n",
       "      <td>Un bon bock</td>\n",
       "      <td>Un bon bock</td>\n",
       "      <td>0</td>\n",
       "      <td>1892</td>\n",
       "      <td>\\N</td>\n",
       "      <td>\\N</td>\n",
       "      <td>Animation,Short</td>\n",
       "      <td>6.4</td>\n",
       "      <td>109</td>\n",
       "    </tr>\n",
       "    <tr>\n",
       "      <th>4</th>\n",
       "      <td>tt0000005</td>\n",
       "      <td>short</td>\n",
       "      <td>Blacksmith Scene</td>\n",
       "      <td>Blacksmith Scene</td>\n",
       "      <td>0</td>\n",
       "      <td>1893</td>\n",
       "      <td>\\N</td>\n",
       "      <td>1</td>\n",
       "      <td>Comedy,Short</td>\n",
       "      <td>6.2</td>\n",
       "      <td>1822</td>\n",
       "    </tr>\n",
       "  </tbody>\n",
       "</table>\n",
       "</div>"
      ],
      "text/plain": [
       "      tconst titleType            primaryTitle           originalTitle  \\\n",
       "0  tt0000001     short              Carmencita              Carmencita   \n",
       "1  tt0000002     short  Le clown et ses chiens  Le clown et ses chiens   \n",
       "2  tt0000003     short          Pauvre Pierrot          Pauvre Pierrot   \n",
       "3  tt0000004     short             Un bon bock             Un bon bock   \n",
       "4  tt0000005     short        Blacksmith Scene        Blacksmith Scene   \n",
       "\n",
       "   isAdult startYear endYear runtimeMinutes                    genres  \\\n",
       "0        0      1894      \\N              1         Documentary,Short   \n",
       "1        0      1892      \\N              5           Animation,Short   \n",
       "2        0      1892      \\N              4  Animation,Comedy,Romance   \n",
       "3        0      1892      \\N             \\N           Animation,Short   \n",
       "4        0      1893      \\N              1              Comedy,Short   \n",
       "\n",
       "   averageRating  numVotes  \n",
       "0            5.8      1486  \n",
       "1            6.4       179  \n",
       "2            6.6      1119  \n",
       "3            6.4       109  \n",
       "4            6.2      1822  "
      ]
     },
     "execution_count": 8,
     "metadata": {},
     "output_type": "execute_result"
    }
   ],
   "source": [
    "imdb_data.head()"
   ]
  },
  {
   "cell_type": "code",
   "execution_count": 9,
   "metadata": {
    "colab": {
     "base_uri": "https://localhost:8080/",
     "height": 238
    },
    "colab_type": "code",
    "id": "mEQ3bExvC83H",
    "outputId": "2c3d1f4c-114e-4176-daa0-cb51ef94da99"
   },
   "outputs": [
    {
     "data": {
      "text/plain": [
       "array([1894, 1892, 1893, 1895, 1896, 1898, 1897, 1900, 1899, 1901, 1904,\n",
       "       1903, 1902, 1912, 1907, 1905, 1906, 1908, 1910, 1909, 1914, 1911,\n",
       "       1913, 1919, 1916, 1917, 1915, 1918, 1936, 1925, 1920, 1921, 1922,\n",
       "       1923, 1924, 1927, 1929, 1926, 1993, 1935, 1928, 1942, 1930, 1933,\n",
       "       1931, 1932, 1939, 1937, 1950, 1938, 1951, 1934, 1983, 1946, 1940,\n",
       "       1941, 1952, 1970, 1957, 1943, 1948, 1945, 1959, 1944, 2001, 1949,\n",
       "       1947, 1953, 1954, 1965, 1973, 1995, 1955, 1962, 1958, 1956, 1960,\n",
       "       1961, 1964, 1967, 1963, 1972, 1969, 1968, 1971, 1966, 1976, 1987,\n",
       "       1986, 1990, 1977, 2018, 1979, 1974, 1981, 1988, 1978, 2013, 1989,\n",
       "       1975, 2019, 2016, 1985, 1980, 2010, 2007, 1984, 1982, 1992, 1991,\n",
       "       1999, 2005, 1994, 1998, 2002, 1997, 2004, 1996, 2017, 2000, 2009,\n",
       "       2008, 2003, 2006, 2014, 2011, 1891, 2012, 2015, 1888, 1890, 1889,\n",
       "       1887, 1878, 1874, 1883, 1881, 1885])"
      ]
     },
     "execution_count": 9,
     "metadata": {},
     "output_type": "execute_result"
    }
   ],
   "source": [
    "\n",
    "imdb_data = imdb_data[imdb_data['startYear'] != '\\\\N']\n",
    "imdb_data = imdb_data.dropna()\n",
    "imdb_data['startYear'] = imdb_data['startYear'].astype(int)\n",
    "imdb_data.startYear.unique()"
   ]
  },
  {
   "cell_type": "markdown",
   "metadata": {
    "colab_type": "text",
    "id": "dvgAHfNP12G1"
   },
   "source": [
    "Within the IMDB dataset, we first limited movies so they started from 1944, which is when our oscar dataset starts."
   ]
  },
  {
   "cell_type": "code",
   "execution_count": 10,
   "metadata": {
    "colab": {},
    "colab_type": "code",
    "id": "dpx3-3kQDsDP"
   },
   "outputs": [],
   "source": [
    "imdb_data = imdb_data[imdb_data['startYear'] > 1943]"
   ]
  },
  {
   "cell_type": "markdown",
   "metadata": {
    "colab_type": "text",
    "id": "R5Y79d321xJ8"
   },
   "source": [
    "Then, since the Oscars are an American awards ceremony, we got rid of foreign movies. "
   ]
  },
  {
   "cell_type": "code",
   "execution_count": 11,
   "metadata": {
    "colab": {},
    "colab_type": "code",
    "id": "7zCIndyrJT2x"
   },
   "outputs": [],
   "source": [
    "justseeing = imdb_title[imdb_title['primaryTitle'] != imdb_title['originalTitle']]"
   ]
  },
  {
   "cell_type": "code",
   "execution_count": 12,
   "metadata": {
    "colab": {
     "base_uri": "https://localhost:8080/",
     "height": 538
    },
    "colab_type": "code",
    "id": "eWV_YljpJe6a",
    "outputId": "e421d0b2-1939-4049-e99a-fbdde846981d"
   },
   "outputs": [
    {
     "data": {
      "text/html": [
       "<div>\n",
       "<style scoped>\n",
       "    .dataframe tbody tr th:only-of-type {\n",
       "        vertical-align: middle;\n",
       "    }\n",
       "\n",
       "    .dataframe tbody tr th {\n",
       "        vertical-align: top;\n",
       "    }\n",
       "\n",
       "    .dataframe thead th {\n",
       "        text-align: right;\n",
       "    }\n",
       "</style>\n",
       "<table border=\"1\" class=\"dataframe\">\n",
       "  <thead>\n",
       "    <tr style=\"text-align: right;\">\n",
       "      <th></th>\n",
       "      <th>tconst</th>\n",
       "      <th>titleType</th>\n",
       "      <th>primaryTitle</th>\n",
       "      <th>originalTitle</th>\n",
       "      <th>isAdult</th>\n",
       "      <th>startYear</th>\n",
       "      <th>endYear</th>\n",
       "      <th>runtimeMinutes</th>\n",
       "      <th>genres</th>\n",
       "    </tr>\n",
       "  </thead>\n",
       "  <tbody>\n",
       "    <tr>\n",
       "      <th>9</th>\n",
       "      <td>tt0000010</td>\n",
       "      <td>short</td>\n",
       "      <td>Exiting the Factory</td>\n",
       "      <td>La sortie de l'usine Lumière à Lyon</td>\n",
       "      <td>0</td>\n",
       "      <td>1895</td>\n",
       "      <td>\\N</td>\n",
       "      <td>1</td>\n",
       "      <td>Documentary,Short</td>\n",
       "    </tr>\n",
       "    <tr>\n",
       "      <th>11</th>\n",
       "      <td>tt0000012</td>\n",
       "      <td>short</td>\n",
       "      <td>The Arrival of a Train</td>\n",
       "      <td>L'arrivée d'un train à La Ciotat</td>\n",
       "      <td>0</td>\n",
       "      <td>1896</td>\n",
       "      <td>\\N</td>\n",
       "      <td>1</td>\n",
       "      <td>Documentary,Short</td>\n",
       "    </tr>\n",
       "    <tr>\n",
       "      <th>12</th>\n",
       "      <td>tt0000013</td>\n",
       "      <td>short</td>\n",
       "      <td>The Photographical Congress Arrives in Lyon</td>\n",
       "      <td>Neuville-sur-Saône: Débarquement du congrès de...</td>\n",
       "      <td>0</td>\n",
       "      <td>1895</td>\n",
       "      <td>\\N</td>\n",
       "      <td>1</td>\n",
       "      <td>Documentary,Short</td>\n",
       "    </tr>\n",
       "    <tr>\n",
       "      <th>13</th>\n",
       "      <td>tt0000014</td>\n",
       "      <td>short</td>\n",
       "      <td>The Sprinkler Sprinkled</td>\n",
       "      <td>L'arroseur arrosé</td>\n",
       "      <td>0</td>\n",
       "      <td>1895</td>\n",
       "      <td>\\N</td>\n",
       "      <td>1</td>\n",
       "      <td>Comedy,Short</td>\n",
       "    </tr>\n",
       "    <tr>\n",
       "      <th>20</th>\n",
       "      <td>tt0000022</td>\n",
       "      <td>short</td>\n",
       "      <td>Blacksmith Scene</td>\n",
       "      <td>Les forgerons</td>\n",
       "      <td>0</td>\n",
       "      <td>1895</td>\n",
       "      <td>\\N</td>\n",
       "      <td>1</td>\n",
       "      <td>Documentary,Short</td>\n",
       "    </tr>\n",
       "    <tr>\n",
       "      <th>...</th>\n",
       "      <td>...</td>\n",
       "      <td>...</td>\n",
       "      <td>...</td>\n",
       "      <td>...</td>\n",
       "      <td>...</td>\n",
       "      <td>...</td>\n",
       "      <td>...</td>\n",
       "      <td>...</td>\n",
       "      <td>...</td>\n",
       "    </tr>\n",
       "    <tr>\n",
       "      <th>5769892</th>\n",
       "      <td>tt9913356</td>\n",
       "      <td>tvSeries</td>\n",
       "      <td>Halsey Live: News</td>\n",
       "      <td>Halsey Live: Morning News</td>\n",
       "      <td>0</td>\n",
       "      <td>2019</td>\n",
       "      <td>\\N</td>\n",
       "      <td>\\N</td>\n",
       "      <td>News</td>\n",
       "    </tr>\n",
       "    <tr>\n",
       "      <th>5770330</th>\n",
       "      <td>tt9914254</td>\n",
       "      <td>movie</td>\n",
       "      <td>A Cherry Tale</td>\n",
       "      <td>Kirsebæreventyret</td>\n",
       "      <td>0</td>\n",
       "      <td>2019</td>\n",
       "      <td>\\N</td>\n",
       "      <td>85</td>\n",
       "      <td>Documentary</td>\n",
       "    </tr>\n",
       "    <tr>\n",
       "      <th>5770581</th>\n",
       "      <td>tt9914772</td>\n",
       "      <td>short</td>\n",
       "      <td>ELEVENELEVEN</td>\n",
       "      <td>Eleven Eleven</td>\n",
       "      <td>0</td>\n",
       "      <td>2016</td>\n",
       "      <td>\\N</td>\n",
       "      <td>\\N</td>\n",
       "      <td>Short,Thriller</td>\n",
       "    </tr>\n",
       "    <tr>\n",
       "      <th>5770977</th>\n",
       "      <td>tt9915592</td>\n",
       "      <td>movie</td>\n",
       "      <td>A Husband to Rent</td>\n",
       "      <td>Shohar-e kerayei</td>\n",
       "      <td>0</td>\n",
       "      <td>1974</td>\n",
       "      <td>\\N</td>\n",
       "      <td>\\N</td>\n",
       "      <td>Comedy</td>\n",
       "    </tr>\n",
       "    <tr>\n",
       "      <th>5771235</th>\n",
       "      <td>tt9916170</td>\n",
       "      <td>movie</td>\n",
       "      <td>The Rehearsal</td>\n",
       "      <td>O Ensaio</td>\n",
       "      <td>0</td>\n",
       "      <td>2019</td>\n",
       "      <td>\\N</td>\n",
       "      <td>51</td>\n",
       "      <td>Drama</td>\n",
       "    </tr>\n",
       "  </tbody>\n",
       "</table>\n",
       "<p>93743 rows × 9 columns</p>\n",
       "</div>"
      ],
      "text/plain": [
       "            tconst titleType                                 primaryTitle  \\\n",
       "9        tt0000010     short                          Exiting the Factory   \n",
       "11       tt0000012     short                       The Arrival of a Train   \n",
       "12       tt0000013     short  The Photographical Congress Arrives in Lyon   \n",
       "13       tt0000014     short                      The Sprinkler Sprinkled   \n",
       "20       tt0000022     short                             Blacksmith Scene   \n",
       "...            ...       ...                                          ...   \n",
       "5769892  tt9913356  tvSeries                            Halsey Live: News   \n",
       "5770330  tt9914254     movie                                A Cherry Tale   \n",
       "5770581  tt9914772     short                                 ELEVENELEVEN   \n",
       "5770977  tt9915592     movie                            A Husband to Rent   \n",
       "5771235  tt9916170     movie                                The Rehearsal   \n",
       "\n",
       "                                             originalTitle  isAdult startYear  \\\n",
       "9                      La sortie de l'usine Lumière à Lyon        0      1895   \n",
       "11                        L'arrivée d'un train à La Ciotat        0      1896   \n",
       "12       Neuville-sur-Saône: Débarquement du congrès de...        0      1895   \n",
       "13                                       L'arroseur arrosé        0      1895   \n",
       "20                                           Les forgerons        0      1895   \n",
       "...                                                    ...      ...       ...   \n",
       "5769892                          Halsey Live: Morning News        0      2019   \n",
       "5770330                                  Kirsebæreventyret        0      2019   \n",
       "5770581                                      Eleven Eleven        0      2016   \n",
       "5770977                                   Shohar-e kerayei        0      1974   \n",
       "5771235                                           O Ensaio        0      2019   \n",
       "\n",
       "        endYear runtimeMinutes             genres  \n",
       "9            \\N              1  Documentary,Short  \n",
       "11           \\N              1  Documentary,Short  \n",
       "12           \\N              1  Documentary,Short  \n",
       "13           \\N              1       Comedy,Short  \n",
       "20           \\N              1  Documentary,Short  \n",
       "...         ...            ...                ...  \n",
       "5769892      \\N             \\N               News  \n",
       "5770330      \\N             85        Documentary  \n",
       "5770581      \\N             \\N     Short,Thriller  \n",
       "5770977      \\N             \\N             Comedy  \n",
       "5771235      \\N             51              Drama  \n",
       "\n",
       "[93743 rows x 9 columns]"
      ]
     },
     "execution_count": 12,
     "metadata": {},
     "output_type": "execute_result"
    }
   ],
   "source": [
    "justseeing"
   ]
  },
  {
   "cell_type": "code",
   "execution_count": 13,
   "metadata": {
    "colab": {},
    "colab_type": "code",
    "id": "HuD_nXSGKLXH"
   },
   "outputs": [],
   "source": [
    "imdb_data = imdb_data[imdb_data['primaryTitle'] == imdb_data['originalTitle']]"
   ]
  },
  {
   "cell_type": "code",
   "execution_count": 14,
   "metadata": {
    "colab": {
     "base_uri": "https://localhost:8080/",
     "height": 258
    },
    "colab_type": "code",
    "id": "8oxzl6J3D4RU",
    "outputId": "1711cb69-fa8a-47cb-9765-eef9d04fa54e"
   },
   "outputs": [
    {
     "data": {
      "text/html": [
       "<div>\n",
       "<style scoped>\n",
       "    .dataframe tbody tr th:only-of-type {\n",
       "        vertical-align: middle;\n",
       "    }\n",
       "\n",
       "    .dataframe tbody tr th {\n",
       "        vertical-align: top;\n",
       "    }\n",
       "\n",
       "    .dataframe thead th {\n",
       "        text-align: right;\n",
       "    }\n",
       "</style>\n",
       "<table border=\"1\" class=\"dataframe\">\n",
       "  <thead>\n",
       "    <tr style=\"text-align: right;\">\n",
       "      <th></th>\n",
       "      <th>tconst</th>\n",
       "      <th>titleType</th>\n",
       "      <th>primaryTitle</th>\n",
       "      <th>originalTitle</th>\n",
       "      <th>isAdult</th>\n",
       "      <th>startYear</th>\n",
       "      <th>endYear</th>\n",
       "      <th>runtimeMinutes</th>\n",
       "      <th>genres</th>\n",
       "      <th>averageRating</th>\n",
       "      <th>numVotes</th>\n",
       "    </tr>\n",
       "  </thead>\n",
       "  <tbody>\n",
       "    <tr>\n",
       "      <th>3806</th>\n",
       "      <td>tt0015724</td>\n",
       "      <td>movie</td>\n",
       "      <td>Dama de noche</td>\n",
       "      <td>Dama de noche</td>\n",
       "      <td>0</td>\n",
       "      <td>1993</td>\n",
       "      <td>\\N</td>\n",
       "      <td>102</td>\n",
       "      <td>Drama,Mystery,Romance</td>\n",
       "      <td>6.2</td>\n",
       "      <td>20</td>\n",
       "    </tr>\n",
       "    <tr>\n",
       "      <th>6406</th>\n",
       "      <td>tt0021617</td>\n",
       "      <td>movie</td>\n",
       "      <td>Arizona Territory</td>\n",
       "      <td>Arizona Territory</td>\n",
       "      <td>0</td>\n",
       "      <td>1950</td>\n",
       "      <td>\\N</td>\n",
       "      <td>56</td>\n",
       "      <td>Western</td>\n",
       "      <td>5.5</td>\n",
       "      <td>20</td>\n",
       "    </tr>\n",
       "    <tr>\n",
       "      <th>6701</th>\n",
       "      <td>tt0022064</td>\n",
       "      <td>movie</td>\n",
       "      <td>Lebbra bianca</td>\n",
       "      <td>Lebbra bianca</td>\n",
       "      <td>0</td>\n",
       "      <td>1951</td>\n",
       "      <td>\\N</td>\n",
       "      <td>100</td>\n",
       "      <td>Drama</td>\n",
       "      <td>4.6</td>\n",
       "      <td>11</td>\n",
       "    </tr>\n",
       "    <tr>\n",
       "      <th>7564</th>\n",
       "      <td>tt0023331</td>\n",
       "      <td>movie</td>\n",
       "      <td>Pesn o geroyakh</td>\n",
       "      <td>Pesn o geroyakh</td>\n",
       "      <td>0</td>\n",
       "      <td>1983</td>\n",
       "      <td>\\N</td>\n",
       "      <td>50</td>\n",
       "      <td>Documentary</td>\n",
       "      <td>6.8</td>\n",
       "      <td>67</td>\n",
       "    </tr>\n",
       "    <tr>\n",
       "      <th>8135</th>\n",
       "      <td>tt0024121</td>\n",
       "      <td>movie</td>\n",
       "      <td>Houkutuslintu</td>\n",
       "      <td>Houkutuslintu</td>\n",
       "      <td>0</td>\n",
       "      <td>1946</td>\n",
       "      <td>\\N</td>\n",
       "      <td>84</td>\n",
       "      <td>Drama</td>\n",
       "      <td>6.0</td>\n",
       "      <td>47</td>\n",
       "    </tr>\n",
       "  </tbody>\n",
       "</table>\n",
       "</div>"
      ],
      "text/plain": [
       "         tconst titleType       primaryTitle      originalTitle  isAdult  \\\n",
       "3806  tt0015724     movie      Dama de noche      Dama de noche        0   \n",
       "6406  tt0021617     movie  Arizona Territory  Arizona Territory        0   \n",
       "6701  tt0022064     movie      Lebbra bianca      Lebbra bianca        0   \n",
       "7564  tt0023331     movie    Pesn o geroyakh    Pesn o geroyakh        0   \n",
       "8135  tt0024121     movie      Houkutuslintu      Houkutuslintu        0   \n",
       "\n",
       "      startYear endYear runtimeMinutes                 genres  averageRating  \\\n",
       "3806       1993      \\N            102  Drama,Mystery,Romance            6.2   \n",
       "6406       1950      \\N             56                Western            5.5   \n",
       "6701       1951      \\N            100                  Drama            4.6   \n",
       "7564       1983      \\N             50            Documentary            6.8   \n",
       "8135       1946      \\N             84                  Drama            6.0   \n",
       "\n",
       "      numVotes  \n",
       "3806        20  \n",
       "6406        20  \n",
       "6701        11  \n",
       "7564        67  \n",
       "8135        47  "
      ]
     },
     "execution_count": 14,
     "metadata": {},
     "output_type": "execute_result"
    }
   ],
   "source": [
    "imdb_data.head()"
   ]
  },
  {
   "cell_type": "markdown",
   "metadata": {
    "colab_type": "text",
    "id": "ON-lOOVb44vG"
   },
   "source": [
    "Since the IMDB dataset contains information about TV shows and shorts, alongside movies, we filtered it out to only look at information about movies."
   ]
  },
  {
   "cell_type": "code",
   "execution_count": 15,
   "metadata": {
    "colab": {},
    "colab_type": "code",
    "id": "auU0TPysG6Yo"
   },
   "outputs": [],
   "source": [
    "temp1 = imdb_data[imdb_data['titleType'] == 'movie'] \n",
    "temp2 = imdb_data[imdb_data['titleType'] == 'tvMovie']\n",
    "fin = pd.concat([temp1, temp2])"
   ]
  },
  {
   "cell_type": "code",
   "execution_count": 16,
   "metadata": {
    "colab": {
     "base_uri": "https://localhost:8080/",
     "height": 258
    },
    "colab_type": "code",
    "id": "iJ2wZqb4HAE3",
    "outputId": "c1e732fa-8f37-4c44-9f40-bdd7e43abe4f"
   },
   "outputs": [
    {
     "data": {
      "text/html": [
       "<div>\n",
       "<style scoped>\n",
       "    .dataframe tbody tr th:only-of-type {\n",
       "        vertical-align: middle;\n",
       "    }\n",
       "\n",
       "    .dataframe tbody tr th {\n",
       "        vertical-align: top;\n",
       "    }\n",
       "\n",
       "    .dataframe thead th {\n",
       "        text-align: right;\n",
       "    }\n",
       "</style>\n",
       "<table border=\"1\" class=\"dataframe\">\n",
       "  <thead>\n",
       "    <tr style=\"text-align: right;\">\n",
       "      <th></th>\n",
       "      <th>tconst</th>\n",
       "      <th>titleType</th>\n",
       "      <th>primaryTitle</th>\n",
       "      <th>originalTitle</th>\n",
       "      <th>isAdult</th>\n",
       "      <th>startYear</th>\n",
       "      <th>endYear</th>\n",
       "      <th>runtimeMinutes</th>\n",
       "      <th>genres</th>\n",
       "      <th>averageRating</th>\n",
       "      <th>numVotes</th>\n",
       "    </tr>\n",
       "  </thead>\n",
       "  <tbody>\n",
       "    <tr>\n",
       "      <th>3806</th>\n",
       "      <td>tt0015724</td>\n",
       "      <td>movie</td>\n",
       "      <td>Dama de noche</td>\n",
       "      <td>Dama de noche</td>\n",
       "      <td>0</td>\n",
       "      <td>1993</td>\n",
       "      <td>\\N</td>\n",
       "      <td>102</td>\n",
       "      <td>Drama,Mystery,Romance</td>\n",
       "      <td>6.2</td>\n",
       "      <td>20</td>\n",
       "    </tr>\n",
       "    <tr>\n",
       "      <th>6406</th>\n",
       "      <td>tt0021617</td>\n",
       "      <td>movie</td>\n",
       "      <td>Arizona Territory</td>\n",
       "      <td>Arizona Territory</td>\n",
       "      <td>0</td>\n",
       "      <td>1950</td>\n",
       "      <td>\\N</td>\n",
       "      <td>56</td>\n",
       "      <td>Western</td>\n",
       "      <td>5.5</td>\n",
       "      <td>20</td>\n",
       "    </tr>\n",
       "    <tr>\n",
       "      <th>6701</th>\n",
       "      <td>tt0022064</td>\n",
       "      <td>movie</td>\n",
       "      <td>Lebbra bianca</td>\n",
       "      <td>Lebbra bianca</td>\n",
       "      <td>0</td>\n",
       "      <td>1951</td>\n",
       "      <td>\\N</td>\n",
       "      <td>100</td>\n",
       "      <td>Drama</td>\n",
       "      <td>4.6</td>\n",
       "      <td>11</td>\n",
       "    </tr>\n",
       "    <tr>\n",
       "      <th>7564</th>\n",
       "      <td>tt0023331</td>\n",
       "      <td>movie</td>\n",
       "      <td>Pesn o geroyakh</td>\n",
       "      <td>Pesn o geroyakh</td>\n",
       "      <td>0</td>\n",
       "      <td>1983</td>\n",
       "      <td>\\N</td>\n",
       "      <td>50</td>\n",
       "      <td>Documentary</td>\n",
       "      <td>6.8</td>\n",
       "      <td>67</td>\n",
       "    </tr>\n",
       "    <tr>\n",
       "      <th>8135</th>\n",
       "      <td>tt0024121</td>\n",
       "      <td>movie</td>\n",
       "      <td>Houkutuslintu</td>\n",
       "      <td>Houkutuslintu</td>\n",
       "      <td>0</td>\n",
       "      <td>1946</td>\n",
       "      <td>\\N</td>\n",
       "      <td>84</td>\n",
       "      <td>Drama</td>\n",
       "      <td>6.0</td>\n",
       "      <td>47</td>\n",
       "    </tr>\n",
       "  </tbody>\n",
       "</table>\n",
       "</div>"
      ],
      "text/plain": [
       "         tconst titleType       primaryTitle      originalTitle  isAdult  \\\n",
       "3806  tt0015724     movie      Dama de noche      Dama de noche        0   \n",
       "6406  tt0021617     movie  Arizona Territory  Arizona Territory        0   \n",
       "6701  tt0022064     movie      Lebbra bianca      Lebbra bianca        0   \n",
       "7564  tt0023331     movie    Pesn o geroyakh    Pesn o geroyakh        0   \n",
       "8135  tt0024121     movie      Houkutuslintu      Houkutuslintu        0   \n",
       "\n",
       "      startYear endYear runtimeMinutes                 genres  averageRating  \\\n",
       "3806       1993      \\N            102  Drama,Mystery,Romance            6.2   \n",
       "6406       1950      \\N             56                Western            5.5   \n",
       "6701       1951      \\N            100                  Drama            4.6   \n",
       "7564       1983      \\N             50            Documentary            6.8   \n",
       "8135       1946      \\N             84                  Drama            6.0   \n",
       "\n",
       "      numVotes  \n",
       "3806        20  \n",
       "6406        20  \n",
       "6701        11  \n",
       "7564        67  \n",
       "8135        47  "
      ]
     },
     "execution_count": 16,
     "metadata": {},
     "output_type": "execute_result"
    }
   ],
   "source": [
    "fin.head()"
   ]
  },
  {
   "cell_type": "code",
   "execution_count": 17,
   "metadata": {
    "colab": {},
    "colab_type": "code",
    "id": "VQvol47OJHbJ"
   },
   "outputs": [],
   "source": [
    "fin = fin[['titleType', 'primaryTitle', 'startYear', 'runtimeMinutes', 'genres', 'averageRating' ] ]"
   ]
  },
  {
   "cell_type": "code",
   "execution_count": 18,
   "metadata": {
    "colab": {
     "base_uri": "https://localhost:8080/",
     "height": 204
    },
    "colab_type": "code",
    "id": "RiXikcUXLJkk",
    "outputId": "eaf8b02f-3f42-4d47-bd63-5ee36b841430"
   },
   "outputs": [
    {
     "data": {
      "text/html": [
       "<div>\n",
       "<style scoped>\n",
       "    .dataframe tbody tr th:only-of-type {\n",
       "        vertical-align: middle;\n",
       "    }\n",
       "\n",
       "    .dataframe tbody tr th {\n",
       "        vertical-align: top;\n",
       "    }\n",
       "\n",
       "    .dataframe thead th {\n",
       "        text-align: right;\n",
       "    }\n",
       "</style>\n",
       "<table border=\"1\" class=\"dataframe\">\n",
       "  <thead>\n",
       "    <tr style=\"text-align: right;\">\n",
       "      <th></th>\n",
       "      <th>titleType</th>\n",
       "      <th>title</th>\n",
       "      <th>year</th>\n",
       "      <th>runtimeMinutes</th>\n",
       "      <th>genres</th>\n",
       "      <th>rating</th>\n",
       "    </tr>\n",
       "  </thead>\n",
       "  <tbody>\n",
       "    <tr>\n",
       "      <th>3806</th>\n",
       "      <td>movie</td>\n",
       "      <td>Dama de noche</td>\n",
       "      <td>1993</td>\n",
       "      <td>102</td>\n",
       "      <td>Drama,Mystery,Romance</td>\n",
       "      <td>6.2</td>\n",
       "    </tr>\n",
       "    <tr>\n",
       "      <th>6406</th>\n",
       "      <td>movie</td>\n",
       "      <td>Arizona Territory</td>\n",
       "      <td>1950</td>\n",
       "      <td>56</td>\n",
       "      <td>Western</td>\n",
       "      <td>5.5</td>\n",
       "    </tr>\n",
       "    <tr>\n",
       "      <th>6701</th>\n",
       "      <td>movie</td>\n",
       "      <td>Lebbra bianca</td>\n",
       "      <td>1951</td>\n",
       "      <td>100</td>\n",
       "      <td>Drama</td>\n",
       "      <td>4.6</td>\n",
       "    </tr>\n",
       "    <tr>\n",
       "      <th>7564</th>\n",
       "      <td>movie</td>\n",
       "      <td>Pesn o geroyakh</td>\n",
       "      <td>1983</td>\n",
       "      <td>50</td>\n",
       "      <td>Documentary</td>\n",
       "      <td>6.8</td>\n",
       "    </tr>\n",
       "    <tr>\n",
       "      <th>8135</th>\n",
       "      <td>movie</td>\n",
       "      <td>Houkutuslintu</td>\n",
       "      <td>1946</td>\n",
       "      <td>84</td>\n",
       "      <td>Drama</td>\n",
       "      <td>6.0</td>\n",
       "    </tr>\n",
       "  </tbody>\n",
       "</table>\n",
       "</div>"
      ],
      "text/plain": [
       "     titleType              title  year runtimeMinutes                 genres  \\\n",
       "3806     movie      Dama de noche  1993            102  Drama,Mystery,Romance   \n",
       "6406     movie  Arizona Territory  1950             56                Western   \n",
       "6701     movie      Lebbra bianca  1951            100                  Drama   \n",
       "7564     movie    Pesn o geroyakh  1983             50            Documentary   \n",
       "8135     movie      Houkutuslintu  1946             84                  Drama   \n",
       "\n",
       "      rating  \n",
       "3806     6.2  \n",
       "6406     5.5  \n",
       "6701     4.6  \n",
       "7564     6.8  \n",
       "8135     6.0  "
      ]
     },
     "execution_count": 18,
     "metadata": {},
     "output_type": "execute_result"
    }
   ],
   "source": [
    "fin.columns = ['titleType', 'title', 'year', 'runtimeMinutes', 'genres', 'rating']\n",
    "fin.head()"
   ]
  },
  {
   "cell_type": "markdown",
   "metadata": {
    "colab_type": "text",
    "id": "eWEYW14s5kNe"
   },
   "source": [
    "We filtered on the imdb dataset some more by getting rid of any null values or '\\\\N' string values."
   ]
  },
  {
   "cell_type": "code",
   "execution_count": 19,
   "metadata": {
    "colab": {},
    "colab_type": "code",
    "id": "KeoHSy00LeFV"
   },
   "outputs": [],
   "source": [
    "fin = fin[fin['runtimeMinutes'] != '\\\\N']\n",
    "fin = fin.dropna()\n",
    "oscar_nominees['runtimeMinutes'] = oscar_nominees['runtimeMinutes'].astype(int)\n",
    "fin['runtimeMinutes'] = fin['runtimeMinutes'].astype(int)\n"
   ]
  },
  {
   "cell_type": "markdown",
   "metadata": {
    "colab_type": "text",
    "id": "cKPYxHIz2JMV"
   },
   "source": [
    "Now we have a dataset with non foreign movies which were released after 1943. \n"
   ]
  },
  {
   "cell_type": "code",
   "execution_count": 20,
   "metadata": {
    "colab": {},
    "colab_type": "code",
    "id": "uP4gt7ZhMNvn"
   },
   "outputs": [],
   "source": [
    "\n",
    "big = pd.merge(fin, oscar_nominees,  how='left', left_on=['title','year', 'rating', 'genres', 'runtimeMinutes'], right_on = ['title','year', 'rating', 'genres', 'runtimeMinutes'])"
   ]
  },
  {
   "cell_type": "code",
   "execution_count": 21,
   "metadata": {
    "colab": {
     "base_uri": "https://localhost:8080/",
     "height": 204
    },
    "colab_type": "code",
    "id": "4kfFyhynNCEj",
    "outputId": "507a158d-789c-4f23-f1f4-1f3905757167"
   },
   "outputs": [
    {
     "data": {
      "text/html": [
       "<div>\n",
       "<style scoped>\n",
       "    .dataframe tbody tr th:only-of-type {\n",
       "        vertical-align: middle;\n",
       "    }\n",
       "\n",
       "    .dataframe tbody tr th {\n",
       "        vertical-align: top;\n",
       "    }\n",
       "\n",
       "    .dataframe thead th {\n",
       "        text-align: right;\n",
       "    }\n",
       "</style>\n",
       "<table border=\"1\" class=\"dataframe\">\n",
       "  <thead>\n",
       "    <tr style=\"text-align: right;\">\n",
       "      <th></th>\n",
       "      <th>titleType</th>\n",
       "      <th>title</th>\n",
       "      <th>year</th>\n",
       "      <th>runtimeMinutes</th>\n",
       "      <th>genres</th>\n",
       "      <th>rating</th>\n",
       "      <th>category</th>\n",
       "      <th>winner</th>\n",
       "    </tr>\n",
       "  </thead>\n",
       "  <tbody>\n",
       "    <tr>\n",
       "      <th>0</th>\n",
       "      <td>movie</td>\n",
       "      <td>Dama de noche</td>\n",
       "      <td>1993</td>\n",
       "      <td>102</td>\n",
       "      <td>Drama,Mystery,Romance</td>\n",
       "      <td>6.2</td>\n",
       "      <td>NaN</td>\n",
       "      <td>NaN</td>\n",
       "    </tr>\n",
       "    <tr>\n",
       "      <th>1</th>\n",
       "      <td>movie</td>\n",
       "      <td>Arizona Territory</td>\n",
       "      <td>1950</td>\n",
       "      <td>56</td>\n",
       "      <td>Western</td>\n",
       "      <td>5.5</td>\n",
       "      <td>NaN</td>\n",
       "      <td>NaN</td>\n",
       "    </tr>\n",
       "    <tr>\n",
       "      <th>2</th>\n",
       "      <td>movie</td>\n",
       "      <td>Lebbra bianca</td>\n",
       "      <td>1951</td>\n",
       "      <td>100</td>\n",
       "      <td>Drama</td>\n",
       "      <td>4.6</td>\n",
       "      <td>NaN</td>\n",
       "      <td>NaN</td>\n",
       "    </tr>\n",
       "    <tr>\n",
       "      <th>3</th>\n",
       "      <td>movie</td>\n",
       "      <td>Pesn o geroyakh</td>\n",
       "      <td>1983</td>\n",
       "      <td>50</td>\n",
       "      <td>Documentary</td>\n",
       "      <td>6.8</td>\n",
       "      <td>NaN</td>\n",
       "      <td>NaN</td>\n",
       "    </tr>\n",
       "    <tr>\n",
       "      <th>4</th>\n",
       "      <td>movie</td>\n",
       "      <td>Houkutuslintu</td>\n",
       "      <td>1946</td>\n",
       "      <td>84</td>\n",
       "      <td>Drama</td>\n",
       "      <td>6.0</td>\n",
       "      <td>NaN</td>\n",
       "      <td>NaN</td>\n",
       "    </tr>\n",
       "  </tbody>\n",
       "</table>\n",
       "</div>"
      ],
      "text/plain": [
       "  titleType              title  year  runtimeMinutes                 genres  \\\n",
       "0     movie      Dama de noche  1993             102  Drama,Mystery,Romance   \n",
       "1     movie  Arizona Territory  1950              56                Western   \n",
       "2     movie      Lebbra bianca  1951             100                  Drama   \n",
       "3     movie    Pesn o geroyakh  1983              50            Documentary   \n",
       "4     movie      Houkutuslintu  1946              84                  Drama   \n",
       "\n",
       "   rating category  winner  \n",
       "0     6.2      NaN     NaN  \n",
       "1     5.5      NaN     NaN  \n",
       "2     4.6      NaN     NaN  \n",
       "3     6.8      NaN     NaN  \n",
       "4     6.0      NaN     NaN  "
      ]
     },
     "execution_count": 21,
     "metadata": {},
     "output_type": "execute_result"
    }
   ],
   "source": [
    "big.head()"
   ]
  },
  {
   "cell_type": "markdown",
   "metadata": {
    "colab_type": "text",
    "id": "ZCSAECmB542x"
   },
   "source": [
    "In order to extract a set of non-Oscar nominated movies to use in our dataset, we created a no nominees table. Since we had previously performed a left join on the filtered IMDB dataset and the Oscar nominee dataset, we knew that the movies that did not receive a Best Picture nom would have null values in the category (and winner) column.\n",
    "\n",
    "The reason that we did not use \"big\" as our final dataset is because when we ran it, some of our Oscar nominee movies had been dropped from the dataset. Since we want to include all 412 of the Oscar nominees in the respective dataset, we decided to create our final dataset a bit differently."
   ]
  },
  {
   "cell_type": "code",
   "execution_count": 22,
   "metadata": {
    "colab": {
     "base_uri": "https://localhost:8080/",
     "height": 170
    },
    "colab_type": "code",
    "id": "opCrdIE0NEuQ",
    "outputId": "7062afc0-5fa4-42ad-e87d-254828f6322c"
   },
   "outputs": [
    {
     "data": {
      "text/plain": [
       "titleType              0\n",
       "title                  0\n",
       "year                   0\n",
       "runtimeMinutes         0\n",
       "genres                 0\n",
       "rating                 0\n",
       "category          180223\n",
       "winner            180223\n",
       "dtype: int64"
      ]
     },
     "execution_count": 22,
     "metadata": {},
     "output_type": "execute_result"
    }
   ],
   "source": [
    "big.isna().sum()"
   ]
  },
  {
   "cell_type": "code",
   "execution_count": 23,
   "metadata": {
    "colab": {},
    "colab_type": "code",
    "id": "GpBQiPZVNHDz"
   },
   "outputs": [],
   "source": [
    "no_nominees = big[big['category'].isna()]"
   ]
  },
  {
   "cell_type": "code",
   "execution_count": 24,
   "metadata": {
    "colab": {
     "base_uri": "https://localhost:8080/",
     "height": 204
    },
    "colab_type": "code",
    "id": "P-lbZNu4NWyd",
    "outputId": "8e6ef41a-9ab4-4e71-a191-74c76d55474e"
   },
   "outputs": [
    {
     "data": {
      "text/html": [
       "<div>\n",
       "<style scoped>\n",
       "    .dataframe tbody tr th:only-of-type {\n",
       "        vertical-align: middle;\n",
       "    }\n",
       "\n",
       "    .dataframe tbody tr th {\n",
       "        vertical-align: top;\n",
       "    }\n",
       "\n",
       "    .dataframe thead th {\n",
       "        text-align: right;\n",
       "    }\n",
       "</style>\n",
       "<table border=\"1\" class=\"dataframe\">\n",
       "  <thead>\n",
       "    <tr style=\"text-align: right;\">\n",
       "      <th></th>\n",
       "      <th>titleType</th>\n",
       "      <th>title</th>\n",
       "      <th>year</th>\n",
       "      <th>runtimeMinutes</th>\n",
       "      <th>genres</th>\n",
       "      <th>rating</th>\n",
       "      <th>category</th>\n",
       "      <th>winner</th>\n",
       "    </tr>\n",
       "  </thead>\n",
       "  <tbody>\n",
       "    <tr>\n",
       "      <th>0</th>\n",
       "      <td>movie</td>\n",
       "      <td>Dama de noche</td>\n",
       "      <td>1993</td>\n",
       "      <td>102</td>\n",
       "      <td>Drama,Mystery,Romance</td>\n",
       "      <td>6.2</td>\n",
       "      <td>NaN</td>\n",
       "      <td>NaN</td>\n",
       "    </tr>\n",
       "    <tr>\n",
       "      <th>1</th>\n",
       "      <td>movie</td>\n",
       "      <td>Arizona Territory</td>\n",
       "      <td>1950</td>\n",
       "      <td>56</td>\n",
       "      <td>Western</td>\n",
       "      <td>5.5</td>\n",
       "      <td>NaN</td>\n",
       "      <td>NaN</td>\n",
       "    </tr>\n",
       "    <tr>\n",
       "      <th>2</th>\n",
       "      <td>movie</td>\n",
       "      <td>Lebbra bianca</td>\n",
       "      <td>1951</td>\n",
       "      <td>100</td>\n",
       "      <td>Drama</td>\n",
       "      <td>4.6</td>\n",
       "      <td>NaN</td>\n",
       "      <td>NaN</td>\n",
       "    </tr>\n",
       "    <tr>\n",
       "      <th>3</th>\n",
       "      <td>movie</td>\n",
       "      <td>Pesn o geroyakh</td>\n",
       "      <td>1983</td>\n",
       "      <td>50</td>\n",
       "      <td>Documentary</td>\n",
       "      <td>6.8</td>\n",
       "      <td>NaN</td>\n",
       "      <td>NaN</td>\n",
       "    </tr>\n",
       "    <tr>\n",
       "      <th>4</th>\n",
       "      <td>movie</td>\n",
       "      <td>Houkutuslintu</td>\n",
       "      <td>1946</td>\n",
       "      <td>84</td>\n",
       "      <td>Drama</td>\n",
       "      <td>6.0</td>\n",
       "      <td>NaN</td>\n",
       "      <td>NaN</td>\n",
       "    </tr>\n",
       "  </tbody>\n",
       "</table>\n",
       "</div>"
      ],
      "text/plain": [
       "  titleType              title  year  runtimeMinutes                 genres  \\\n",
       "0     movie      Dama de noche  1993             102  Drama,Mystery,Romance   \n",
       "1     movie  Arizona Territory  1950              56                Western   \n",
       "2     movie      Lebbra bianca  1951             100                  Drama   \n",
       "3     movie    Pesn o geroyakh  1983              50            Documentary   \n",
       "4     movie      Houkutuslintu  1946              84                  Drama   \n",
       "\n",
       "   rating category  winner  \n",
       "0     6.2      NaN     NaN  \n",
       "1     5.5      NaN     NaN  \n",
       "2     4.6      NaN     NaN  \n",
       "3     6.8      NaN     NaN  \n",
       "4     6.0      NaN     NaN  "
      ]
     },
     "execution_count": 24,
     "metadata": {},
     "output_type": "execute_result"
    }
   ],
   "source": [
    "no_nominees.head()"
   ]
  },
  {
   "cell_type": "markdown",
   "metadata": {
    "colab_type": "text",
    "id": "2wq59XVd60zd"
   },
   "source": [
    "Our no nominees table had over 180000 movies (although only a fraction of the original size of over 5 million entries, still too large in comparison to the number of Oscar nominees), so we reduced the table by retaining every 40th row. We acknowledge that this may not be the best way to data clean, but given that the no nominees table is not sorted by year/rating/genres, we thought it was as random of a cleaning as we could get."
   ]
  },
  {
   "cell_type": "code",
   "execution_count": 25,
   "metadata": {
    "colab": {
     "base_uri": "https://localhost:8080/",
     "height": 34
    },
    "colab_type": "code",
    "id": "b4gUHQJuN3Gt",
    "outputId": "bce5cabb-57ec-42ef-b5dd-c080011f10cd"
   },
   "outputs": [
    {
     "data": {
      "text/plain": [
       "1803"
      ]
     },
     "execution_count": 25,
     "metadata": {},
     "output_type": "execute_result"
    }
   ],
   "source": [
    "\n",
    "tmp = no_nominees.iloc[::100]\n",
    "len(tmp)"
   ]
  },
  {
   "cell_type": "code",
   "execution_count": 26,
   "metadata": {
    "colab": {
     "base_uri": "https://localhost:8080/",
     "height": 204
    },
    "colab_type": "code",
    "id": "XLmnoEHEOQIO",
    "outputId": "97666f39-f8e0-433b-fc16-9bbc3e1201d5"
   },
   "outputs": [
    {
     "data": {
      "text/html": [
       "<div>\n",
       "<style scoped>\n",
       "    .dataframe tbody tr th:only-of-type {\n",
       "        vertical-align: middle;\n",
       "    }\n",
       "\n",
       "    .dataframe tbody tr th {\n",
       "        vertical-align: top;\n",
       "    }\n",
       "\n",
       "    .dataframe thead th {\n",
       "        text-align: right;\n",
       "    }\n",
       "</style>\n",
       "<table border=\"1\" class=\"dataframe\">\n",
       "  <thead>\n",
       "    <tr style=\"text-align: right;\">\n",
       "      <th></th>\n",
       "      <th>title</th>\n",
       "      <th>year</th>\n",
       "      <th>runtimeMinutes</th>\n",
       "      <th>genres</th>\n",
       "      <th>rating</th>\n",
       "      <th>category</th>\n",
       "      <th>winner</th>\n",
       "    </tr>\n",
       "  </thead>\n",
       "  <tbody>\n",
       "    <tr>\n",
       "      <th>0</th>\n",
       "      <td>Dama de noche</td>\n",
       "      <td>1993</td>\n",
       "      <td>102</td>\n",
       "      <td>Drama,Mystery,Romance</td>\n",
       "      <td>6.2</td>\n",
       "      <td>NaN</td>\n",
       "      <td>NaN</td>\n",
       "    </tr>\n",
       "    <tr>\n",
       "      <th>100</th>\n",
       "      <td>Bermuda Mystery</td>\n",
       "      <td>1944</td>\n",
       "      <td>65</td>\n",
       "      <td>Mystery</td>\n",
       "      <td>5.9</td>\n",
       "      <td>NaN</td>\n",
       "      <td>NaN</td>\n",
       "    </tr>\n",
       "    <tr>\n",
       "      <th>200</th>\n",
       "      <td>Experiment Perilous</td>\n",
       "      <td>1944</td>\n",
       "      <td>91</td>\n",
       "      <td>Film-Noir,Romance,Thriller</td>\n",
       "      <td>6.5</td>\n",
       "      <td>NaN</td>\n",
       "      <td>NaN</td>\n",
       "    </tr>\n",
       "    <tr>\n",
       "      <th>300</th>\n",
       "      <td>Johnny Doesn't Live Here Anymore</td>\n",
       "      <td>1944</td>\n",
       "      <td>79</td>\n",
       "      <td>Comedy,Romance,War</td>\n",
       "      <td>5.9</td>\n",
       "      <td>NaN</td>\n",
       "      <td>NaN</td>\n",
       "    </tr>\n",
       "    <tr>\n",
       "      <th>400</th>\n",
       "      <td>Night Club Girl</td>\n",
       "      <td>1945</td>\n",
       "      <td>61</td>\n",
       "      <td>Comedy,Music,Romance</td>\n",
       "      <td>6.4</td>\n",
       "      <td>NaN</td>\n",
       "      <td>NaN</td>\n",
       "    </tr>\n",
       "  </tbody>\n",
       "</table>\n",
       "</div>"
      ],
      "text/plain": [
       "                                title  year  runtimeMinutes  \\\n",
       "0                       Dama de noche  1993             102   \n",
       "100                   Bermuda Mystery  1944              65   \n",
       "200               Experiment Perilous  1944              91   \n",
       "300  Johnny Doesn't Live Here Anymore  1944              79   \n",
       "400                   Night Club Girl  1945              61   \n",
       "\n",
       "                         genres  rating category  winner  \n",
       "0         Drama,Mystery,Romance     6.2      NaN     NaN  \n",
       "100                     Mystery     5.9      NaN     NaN  \n",
       "200  Film-Noir,Romance,Thriller     6.5      NaN     NaN  \n",
       "300          Comedy,Romance,War     5.9      NaN     NaN  \n",
       "400        Comedy,Music,Romance     6.4      NaN     NaN  "
      ]
     },
     "execution_count": 26,
     "metadata": {},
     "output_type": "execute_result"
    }
   ],
   "source": [
    "tmp = tmp.drop(['titleType'], 1)\n",
    "tmp.head()"
   ]
  },
  {
   "cell_type": "code",
   "execution_count": 27,
   "metadata": {
    "colab": {
     "base_uri": "https://localhost:8080/",
     "height": 204
    },
    "colab_type": "code",
    "id": "JqDWVg0ZOS_l",
    "outputId": "40654085-3e7e-4ac0-89bb-6a75bbe979e6"
   },
   "outputs": [
    {
     "data": {
      "text/html": [
       "<div>\n",
       "<style scoped>\n",
       "    .dataframe tbody tr th:only-of-type {\n",
       "        vertical-align: middle;\n",
       "    }\n",
       "\n",
       "    .dataframe tbody tr th {\n",
       "        vertical-align: top;\n",
       "    }\n",
       "\n",
       "    .dataframe thead th {\n",
       "        text-align: right;\n",
       "    }\n",
       "</style>\n",
       "<table border=\"1\" class=\"dataframe\">\n",
       "  <thead>\n",
       "    <tr style=\"text-align: right;\">\n",
       "      <th></th>\n",
       "      <th>year</th>\n",
       "      <th>category</th>\n",
       "      <th>winner</th>\n",
       "      <th>title</th>\n",
       "      <th>genres</th>\n",
       "      <th>rating</th>\n",
       "      <th>runtimeMinutes</th>\n",
       "    </tr>\n",
       "  </thead>\n",
       "  <tbody>\n",
       "    <tr>\n",
       "      <th>0</th>\n",
       "      <td>1944</td>\n",
       "      <td>BEST PICTURE</td>\n",
       "      <td>0</td>\n",
       "      <td>Double Indemnity</td>\n",
       "      <td>Crime|Drama|Film-Noir</td>\n",
       "      <td>8.3</td>\n",
       "      <td>107</td>\n",
       "    </tr>\n",
       "    <tr>\n",
       "      <th>1</th>\n",
       "      <td>1944</td>\n",
       "      <td>BEST PICTURE</td>\n",
       "      <td>0</td>\n",
       "      <td>Gaslight</td>\n",
       "      <td>Drama|Thriller</td>\n",
       "      <td>7.8</td>\n",
       "      <td>114</td>\n",
       "    </tr>\n",
       "    <tr>\n",
       "      <th>2</th>\n",
       "      <td>1944</td>\n",
       "      <td>BEST PICTURE</td>\n",
       "      <td>1</td>\n",
       "      <td>Going My Way</td>\n",
       "      <td>Comedy|Drama|Musical</td>\n",
       "      <td>7.2</td>\n",
       "      <td>126</td>\n",
       "    </tr>\n",
       "    <tr>\n",
       "      <th>3</th>\n",
       "      <td>1944</td>\n",
       "      <td>BEST PICTURE</td>\n",
       "      <td>0</td>\n",
       "      <td>Since You Went Away</td>\n",
       "      <td>Drama|War</td>\n",
       "      <td>7.6</td>\n",
       "      <td>177</td>\n",
       "    </tr>\n",
       "    <tr>\n",
       "      <th>4</th>\n",
       "      <td>1944</td>\n",
       "      <td>BEST PICTURE</td>\n",
       "      <td>0</td>\n",
       "      <td>Wilson</td>\n",
       "      <td>Drama</td>\n",
       "      <td>6.8</td>\n",
       "      <td>154</td>\n",
       "    </tr>\n",
       "  </tbody>\n",
       "</table>\n",
       "</div>"
      ],
      "text/plain": [
       "   year      category  winner                title                 genres  \\\n",
       "0  1944  BEST PICTURE       0     Double Indemnity  Crime|Drama|Film-Noir   \n",
       "1  1944  BEST PICTURE       0             Gaslight         Drama|Thriller   \n",
       "2  1944  BEST PICTURE       1         Going My Way   Comedy|Drama|Musical   \n",
       "3  1944  BEST PICTURE       0  Since You Went Away              Drama|War   \n",
       "4  1944  BEST PICTURE       0               Wilson                  Drama   \n",
       "\n",
       "   rating  runtimeMinutes  \n",
       "0     8.3             107  \n",
       "1     7.8             114  \n",
       "2     7.2             126  \n",
       "3     7.6             177  \n",
       "4     6.8             154  "
      ]
     },
     "execution_count": 27,
     "metadata": {},
     "output_type": "execute_result"
    }
   ],
   "source": [
    "oscar_nominees.head()"
   ]
  },
  {
   "cell_type": "code",
   "execution_count": 28,
   "metadata": {
    "colab": {
     "base_uri": "https://localhost:8080/",
     "height": 204
    },
    "colab_type": "code",
    "id": "AkF9InybPjzf",
    "outputId": "a7b6281d-c493-45b3-be82-ff8f58f7b2dd"
   },
   "outputs": [
    {
     "data": {
      "text/html": [
       "<div>\n",
       "<style scoped>\n",
       "    .dataframe tbody tr th:only-of-type {\n",
       "        vertical-align: middle;\n",
       "    }\n",
       "\n",
       "    .dataframe tbody tr th {\n",
       "        vertical-align: top;\n",
       "    }\n",
       "\n",
       "    .dataframe thead th {\n",
       "        text-align: right;\n",
       "    }\n",
       "</style>\n",
       "<table border=\"1\" class=\"dataframe\">\n",
       "  <thead>\n",
       "    <tr style=\"text-align: right;\">\n",
       "      <th></th>\n",
       "      <th>year</th>\n",
       "      <th>category</th>\n",
       "      <th>winner</th>\n",
       "      <th>title</th>\n",
       "      <th>genres</th>\n",
       "      <th>rating</th>\n",
       "      <th>runtimeMinutes</th>\n",
       "    </tr>\n",
       "  </thead>\n",
       "  <tbody>\n",
       "    <tr>\n",
       "      <th>0</th>\n",
       "      <td>1993</td>\n",
       "      <td>NaN</td>\n",
       "      <td>NaN</td>\n",
       "      <td>Dama de noche</td>\n",
       "      <td>Drama,Mystery,Romance</td>\n",
       "      <td>6.2</td>\n",
       "      <td>102</td>\n",
       "    </tr>\n",
       "    <tr>\n",
       "      <th>100</th>\n",
       "      <td>1944</td>\n",
       "      <td>NaN</td>\n",
       "      <td>NaN</td>\n",
       "      <td>Bermuda Mystery</td>\n",
       "      <td>Mystery</td>\n",
       "      <td>5.9</td>\n",
       "      <td>65</td>\n",
       "    </tr>\n",
       "    <tr>\n",
       "      <th>200</th>\n",
       "      <td>1944</td>\n",
       "      <td>NaN</td>\n",
       "      <td>NaN</td>\n",
       "      <td>Experiment Perilous</td>\n",
       "      <td>Film-Noir,Romance,Thriller</td>\n",
       "      <td>6.5</td>\n",
       "      <td>91</td>\n",
       "    </tr>\n",
       "    <tr>\n",
       "      <th>300</th>\n",
       "      <td>1944</td>\n",
       "      <td>NaN</td>\n",
       "      <td>NaN</td>\n",
       "      <td>Johnny Doesn't Live Here Anymore</td>\n",
       "      <td>Comedy,Romance,War</td>\n",
       "      <td>5.9</td>\n",
       "      <td>79</td>\n",
       "    </tr>\n",
       "    <tr>\n",
       "      <th>400</th>\n",
       "      <td>1945</td>\n",
       "      <td>NaN</td>\n",
       "      <td>NaN</td>\n",
       "      <td>Night Club Girl</td>\n",
       "      <td>Comedy,Music,Romance</td>\n",
       "      <td>6.4</td>\n",
       "      <td>61</td>\n",
       "    </tr>\n",
       "  </tbody>\n",
       "</table>\n",
       "</div>"
      ],
      "text/plain": [
       "     year category  winner                             title  \\\n",
       "0    1993      NaN     NaN                     Dama de noche   \n",
       "100  1944      NaN     NaN                   Bermuda Mystery   \n",
       "200  1944      NaN     NaN               Experiment Perilous   \n",
       "300  1944      NaN     NaN  Johnny Doesn't Live Here Anymore   \n",
       "400  1945      NaN     NaN                   Night Club Girl   \n",
       "\n",
       "                         genres  rating  runtimeMinutes  \n",
       "0         Drama,Mystery,Romance     6.2             102  \n",
       "100                     Mystery     5.9              65  \n",
       "200  Film-Noir,Romance,Thriller     6.5              91  \n",
       "300          Comedy,Romance,War     5.9              79  \n",
       "400        Comedy,Music,Romance     6.4              61  "
      ]
     },
     "execution_count": 28,
     "metadata": {},
     "output_type": "execute_result"
    }
   ],
   "source": [
    "cols = ['year', 'category', 'winner', 'title', 'genres', 'rating', 'runtimeMinutes']\n",
    "tmp = tmp[cols]\n",
    "tmp.head()"
   ]
  },
  {
   "cell_type": "markdown",
   "metadata": {
    "colab_type": "text",
    "id": "__-MVt-m2b44"
   },
   "source": [
    "We then noticed how some movies had multiple genres. For these movies, we assumed that the movie equally belonged to all genres it was classified as. Thus, we randomly selected a genre from the list of genres for that movie. "
   ]
  },
  {
   "cell_type": "code",
   "execution_count": 29,
   "metadata": {
    "colab": {},
    "colab_type": "code",
    "id": "K1cuHdO0QkY3"
   },
   "outputs": [],
   "source": [
    "import random\n",
    "\n",
    "def calc_num(x):\n",
    "    random.seed(1)\n",
    "    num = random.randint(0,len(x)-1)\n",
    "    return x[num]\n",
    "\n",
    "tmp = tmp[tmp['genres'].notna()]\n",
    "\n",
    "tmp['genres'] = tmp['genres'].apply(lambda x: calc_num(x.split(',')))\n",
    "oscar_nominees['genres'] = oscar_nominees['genres'].apply(lambda x: calc_num(x.split('|')))"
   ]
  },
  {
   "cell_type": "markdown",
   "metadata": {
    "colab_type": "text",
    "id": "3dpEuCYS7tsV"
   },
   "source": [
    "Now, we make our final dataset by concatinating the Best Picture nominees with the non-Best Picture nominees."
   ]
  },
  {
   "cell_type": "code",
   "execution_count": 30,
   "metadata": {
    "colab": {},
    "colab_type": "code",
    "id": "R9BOHZF0P1qG"
   },
   "outputs": [],
   "source": [
    "final = pd.concat([tmp, oscar_nominees])"
   ]
  },
  {
   "cell_type": "code",
   "execution_count": 31,
   "metadata": {
    "colab": {
     "base_uri": "https://localhost:8080/",
     "height": 34
    },
    "colab_type": "code",
    "id": "X7hT6b5gP6OX",
    "outputId": "c86b61fc-b951-441a-aa2b-3320470cce62"
   },
   "outputs": [
    {
     "data": {
      "text/plain": [
       "2215"
      ]
     },
     "execution_count": 31,
     "metadata": {},
     "output_type": "execute_result"
    }
   ],
   "source": [
    "len(final)"
   ]
  },
  {
   "cell_type": "code",
   "execution_count": 32,
   "metadata": {
    "colab": {
     "base_uri": "https://localhost:8080/",
     "height": 204
    },
    "colab_type": "code",
    "id": "UWWR-8ImP7BD",
    "outputId": "1bdaf13c-666d-4c4f-fa6a-4eec2e2ee0ac"
   },
   "outputs": [
    {
     "data": {
      "text/html": [
       "<div>\n",
       "<style scoped>\n",
       "    .dataframe tbody tr th:only-of-type {\n",
       "        vertical-align: middle;\n",
       "    }\n",
       "\n",
       "    .dataframe tbody tr th {\n",
       "        vertical-align: top;\n",
       "    }\n",
       "\n",
       "    .dataframe thead th {\n",
       "        text-align: right;\n",
       "    }\n",
       "</style>\n",
       "<table border=\"1\" class=\"dataframe\">\n",
       "  <thead>\n",
       "    <tr style=\"text-align: right;\">\n",
       "      <th></th>\n",
       "      <th>year</th>\n",
       "      <th>category</th>\n",
       "      <th>winner</th>\n",
       "      <th>title</th>\n",
       "      <th>genres</th>\n",
       "      <th>rating</th>\n",
       "      <th>runtimeMinutes</th>\n",
       "    </tr>\n",
       "  </thead>\n",
       "  <tbody>\n",
       "    <tr>\n",
       "      <th>0</th>\n",
       "      <td>1993</td>\n",
       "      <td>NaN</td>\n",
       "      <td>NaN</td>\n",
       "      <td>Dama de noche</td>\n",
       "      <td>Drama</td>\n",
       "      <td>6.2</td>\n",
       "      <td>102</td>\n",
       "    </tr>\n",
       "    <tr>\n",
       "      <th>100</th>\n",
       "      <td>1944</td>\n",
       "      <td>NaN</td>\n",
       "      <td>NaN</td>\n",
       "      <td>Bermuda Mystery</td>\n",
       "      <td>Mystery</td>\n",
       "      <td>5.9</td>\n",
       "      <td>65</td>\n",
       "    </tr>\n",
       "    <tr>\n",
       "      <th>200</th>\n",
       "      <td>1944</td>\n",
       "      <td>NaN</td>\n",
       "      <td>NaN</td>\n",
       "      <td>Experiment Perilous</td>\n",
       "      <td>Film-Noir</td>\n",
       "      <td>6.5</td>\n",
       "      <td>91</td>\n",
       "    </tr>\n",
       "    <tr>\n",
       "      <th>300</th>\n",
       "      <td>1944</td>\n",
       "      <td>NaN</td>\n",
       "      <td>NaN</td>\n",
       "      <td>Johnny Doesn't Live Here Anymore</td>\n",
       "      <td>Comedy</td>\n",
       "      <td>5.9</td>\n",
       "      <td>79</td>\n",
       "    </tr>\n",
       "    <tr>\n",
       "      <th>400</th>\n",
       "      <td>1945</td>\n",
       "      <td>NaN</td>\n",
       "      <td>NaN</td>\n",
       "      <td>Night Club Girl</td>\n",
       "      <td>Comedy</td>\n",
       "      <td>6.4</td>\n",
       "      <td>61</td>\n",
       "    </tr>\n",
       "  </tbody>\n",
       "</table>\n",
       "</div>"
      ],
      "text/plain": [
       "     year category  winner                             title     genres  \\\n",
       "0    1993      NaN     NaN                     Dama de noche      Drama   \n",
       "100  1944      NaN     NaN                   Bermuda Mystery    Mystery   \n",
       "200  1944      NaN     NaN               Experiment Perilous  Film-Noir   \n",
       "300  1944      NaN     NaN  Johnny Doesn't Live Here Anymore     Comedy   \n",
       "400  1945      NaN     NaN                   Night Club Girl     Comedy   \n",
       "\n",
       "     rating  runtimeMinutes  \n",
       "0       6.2             102  \n",
       "100     5.9              65  \n",
       "200     6.5              91  \n",
       "300     5.9              79  \n",
       "400     6.4              61  "
      ]
     },
     "execution_count": 32,
     "metadata": {},
     "output_type": "execute_result"
    }
   ],
   "source": [
    "final.head()"
   ]
  },
  {
   "cell_type": "markdown",
   "metadata": {
    "colab_type": "text",
    "id": "CVLqZfPK2iRo"
   },
   "source": [
    "After this dataset was cleaned, we moved onto the ‘award_tag.csv’. With this dataset, we were only interested in whether or not the movie was nominated/won for other awards. Since there were so many awards to choose from, we only kept the nominated and won columns for BAFTA and SAG."
   ]
  },
  {
   "cell_type": "code",
   "execution_count": 33,
   "metadata": {
    "colab": {
     "base_uri": "https://localhost:8080/",
     "height": 204
    },
    "colab_type": "code",
    "id": "6bchHEI4QC4d",
    "outputId": "f877c5c3-e13b-4918-e65d-a764dc230e7d"
   },
   "outputs": [
    {
     "data": {
      "text/html": [
       "<div>\n",
       "<style scoped>\n",
       "    .dataframe tbody tr th:only-of-type {\n",
       "        vertical-align: middle;\n",
       "    }\n",
       "\n",
       "    .dataframe tbody tr th {\n",
       "        vertical-align: top;\n",
       "    }\n",
       "\n",
       "    .dataframe thead th {\n",
       "        text-align: right;\n",
       "    }\n",
       "</style>\n",
       "<table border=\"1\" class=\"dataframe\">\n",
       "  <thead>\n",
       "    <tr style=\"text-align: right;\">\n",
       "      <th></th>\n",
       "      <th>title</th>\n",
       "      <th>nominated_for_bafta</th>\n",
       "      <th>won_bafta</th>\n",
       "    </tr>\n",
       "  </thead>\n",
       "  <tbody>\n",
       "    <tr>\n",
       "      <th>664</th>\n",
       "      <td>Lawrence of Arabia</td>\n",
       "      <td>BAFTA</td>\n",
       "      <td>1</td>\n",
       "    </tr>\n",
       "    <tr>\n",
       "      <th>665</th>\n",
       "      <td>Tom Jones</td>\n",
       "      <td>BAFTA</td>\n",
       "      <td>1</td>\n",
       "    </tr>\n",
       "    <tr>\n",
       "      <th>666</th>\n",
       "      <td>Dr. Strangelove</td>\n",
       "      <td>BAFTA</td>\n",
       "      <td>1</td>\n",
       "    </tr>\n",
       "    <tr>\n",
       "      <th>667</th>\n",
       "      <td>My Fair Lady</td>\n",
       "      <td>BAFTA</td>\n",
       "      <td>1</td>\n",
       "    </tr>\n",
       "    <tr>\n",
       "      <th>668</th>\n",
       "      <td>Who's Afraid of Virginia Woolf?</td>\n",
       "      <td>BAFTA</td>\n",
       "      <td>1</td>\n",
       "    </tr>\n",
       "  </tbody>\n",
       "</table>\n",
       "</div>"
      ],
      "text/plain": [
       "                               title nominated_for_bafta  won_bafta\n",
       "664               Lawrence of Arabia               BAFTA          1\n",
       "665                        Tom Jones               BAFTA          1\n",
       "666                  Dr. Strangelove               BAFTA          1\n",
       "667                     My Fair Lady               BAFTA          1\n",
       "668  Who's Afraid of Virginia Woolf?               BAFTA          1"
      ]
     },
     "execution_count": 33,
     "metadata": {},
     "output_type": "execute_result"
    }
   ],
   "source": [
    "awards_dataset = pd.read_csv(\"award_tag.csv\")\n",
    "awards_dataset = awards_dataset.drop(['Genres','Year'], 1)\n",
    "awards_dataset.columns = ['title', 'nominated_award','won_nomination']\n",
    "rater_bafta = awards_dataset['nominated_award'] == 'BAFTA'\n",
    "df_bafta = awards_dataset[rater_bafta]\n",
    "df_bafta.columns = [ 'title','nominated_for_bafta','won_bafta']\n",
    "df_bafta.head()"
   ]
  },
  {
   "cell_type": "code",
   "execution_count": 34,
   "metadata": {
    "colab": {
     "base_uri": "https://localhost:8080/",
     "height": 204
    },
    "colab_type": "code",
    "id": "Ve54S_jsQOex",
    "outputId": "78e8a021-5986-47d6-92ba-2534041d0335"
   },
   "outputs": [
    {
     "data": {
      "text/html": [
       "<div>\n",
       "<style scoped>\n",
       "    .dataframe tbody tr th:only-of-type {\n",
       "        vertical-align: middle;\n",
       "    }\n",
       "\n",
       "    .dataframe tbody tr th {\n",
       "        vertical-align: top;\n",
       "    }\n",
       "\n",
       "    .dataframe thead th {\n",
       "        text-align: right;\n",
       "    }\n",
       "</style>\n",
       "<table border=\"1\" class=\"dataframe\">\n",
       "  <thead>\n",
       "    <tr style=\"text-align: right;\">\n",
       "      <th></th>\n",
       "      <th>title</th>\n",
       "      <th>nominated_for_sag</th>\n",
       "      <th>won_sag</th>\n",
       "    </tr>\n",
       "  </thead>\n",
       "  <tbody>\n",
       "    <tr>\n",
       "      <th>938</th>\n",
       "      <td>Apollo 13</td>\n",
       "      <td>SAG</td>\n",
       "      <td>1</td>\n",
       "    </tr>\n",
       "    <tr>\n",
       "      <th>939</th>\n",
       "      <td>The Birdcage</td>\n",
       "      <td>SAG</td>\n",
       "      <td>1</td>\n",
       "    </tr>\n",
       "    <tr>\n",
       "      <th>940</th>\n",
       "      <td>The Full Monty</td>\n",
       "      <td>SAG</td>\n",
       "      <td>1</td>\n",
       "    </tr>\n",
       "    <tr>\n",
       "      <th>941</th>\n",
       "      <td>Shakespeare in Love</td>\n",
       "      <td>SAG</td>\n",
       "      <td>1</td>\n",
       "    </tr>\n",
       "    <tr>\n",
       "      <th>942</th>\n",
       "      <td>American Beauty</td>\n",
       "      <td>SAG</td>\n",
       "      <td>1</td>\n",
       "    </tr>\n",
       "  </tbody>\n",
       "</table>\n",
       "</div>"
      ],
      "text/plain": [
       "                   title nominated_for_sag  won_sag\n",
       "938            Apollo 13               SAG        1\n",
       "939         The Birdcage               SAG        1\n",
       "940       The Full Monty               SAG        1\n",
       "941  Shakespeare in Love               SAG        1\n",
       "942      American Beauty               SAG        1"
      ]
     },
     "execution_count": 34,
     "metadata": {},
     "output_type": "execute_result"
    }
   ],
   "source": [
    "rater_sag = awards_dataset['nominated_award'] == 'SAG'\n",
    "df_sag = awards_dataset[rater_sag]\n",
    "df_sag.columns = [ 'title','nominated_for_sag','won_sag']\n",
    "df_sag.head()"
   ]
  },
  {
   "cell_type": "markdown",
   "metadata": {
    "colab_type": "text",
    "id": "-IuzzTid2pdD"
   },
   "source": [
    "We merged all award nominations/wins together to create a win/nominated movies dataset."
   ]
  },
  {
   "cell_type": "code",
   "execution_count": 35,
   "metadata": {
    "colab": {
     "base_uri": "https://localhost:8080/",
     "height": 34
    },
    "colab_type": "code",
    "id": "fnzjl8GMQPqU",
    "outputId": "40531830-6e8d-404a-be79-18b0b3dd6c46"
   },
   "outputs": [
    {
     "data": {
      "text/plain": [
       "337"
      ]
     },
     "execution_count": 35,
     "metadata": {},
     "output_type": "execute_result"
    }
   ],
   "source": [
    "\n",
    "all_raters_with_wins = df_sag.merge(df_bafta,on='title',how='outer')\n",
    "len(all_raters_with_wins)"
   ]
  },
  {
   "cell_type": "markdown",
   "metadata": {
    "colab_type": "text",
    "id": "23MuivHj21TC"
   },
   "source": [
    "Finally we merged all cleaned datasets to get our final dataset that we will use for both the EDA and machine learning sections. So, if the movie was not nominated for an award, it will have null values in those respective categories."
   ]
  },
  {
   "cell_type": "code",
   "execution_count": 36,
   "metadata": {
    "colab": {
     "base_uri": "https://localhost:8080/",
     "height": 343
    },
    "colab_type": "code",
    "id": "Hsl7iC70QU-Q",
    "outputId": "3c7a2a1c-6567-434b-e425-84ec70ff496d"
   },
   "outputs": [
    {
     "data": {
      "text/html": [
       "<div>\n",
       "<style scoped>\n",
       "    .dataframe tbody tr th:only-of-type {\n",
       "        vertical-align: middle;\n",
       "    }\n",
       "\n",
       "    .dataframe tbody tr th {\n",
       "        vertical-align: top;\n",
       "    }\n",
       "\n",
       "    .dataframe thead th {\n",
       "        text-align: right;\n",
       "    }\n",
       "</style>\n",
       "<table border=\"1\" class=\"dataframe\">\n",
       "  <thead>\n",
       "    <tr style=\"text-align: right;\">\n",
       "      <th></th>\n",
       "      <th>year</th>\n",
       "      <th>category</th>\n",
       "      <th>winner</th>\n",
       "      <th>title</th>\n",
       "      <th>genres</th>\n",
       "      <th>rating</th>\n",
       "      <th>runtimeMinutes</th>\n",
       "      <th>nominated_for_sag</th>\n",
       "      <th>won_sag</th>\n",
       "      <th>nominated_for_bafta</th>\n",
       "      <th>won_bafta</th>\n",
       "    </tr>\n",
       "  </thead>\n",
       "  <tbody>\n",
       "    <tr>\n",
       "      <th>0</th>\n",
       "      <td>1993</td>\n",
       "      <td>NaN</td>\n",
       "      <td>NaN</td>\n",
       "      <td>Dama de noche</td>\n",
       "      <td>Drama</td>\n",
       "      <td>6.2</td>\n",
       "      <td>102</td>\n",
       "      <td>NaN</td>\n",
       "      <td>NaN</td>\n",
       "      <td>NaN</td>\n",
       "      <td>NaN</td>\n",
       "    </tr>\n",
       "    <tr>\n",
       "      <th>1</th>\n",
       "      <td>1944</td>\n",
       "      <td>NaN</td>\n",
       "      <td>NaN</td>\n",
       "      <td>Bermuda Mystery</td>\n",
       "      <td>Mystery</td>\n",
       "      <td>5.9</td>\n",
       "      <td>65</td>\n",
       "      <td>NaN</td>\n",
       "      <td>NaN</td>\n",
       "      <td>NaN</td>\n",
       "      <td>NaN</td>\n",
       "    </tr>\n",
       "    <tr>\n",
       "      <th>2</th>\n",
       "      <td>1944</td>\n",
       "      <td>NaN</td>\n",
       "      <td>NaN</td>\n",
       "      <td>Experiment Perilous</td>\n",
       "      <td>Film-Noir</td>\n",
       "      <td>6.5</td>\n",
       "      <td>91</td>\n",
       "      <td>NaN</td>\n",
       "      <td>NaN</td>\n",
       "      <td>NaN</td>\n",
       "      <td>NaN</td>\n",
       "    </tr>\n",
       "    <tr>\n",
       "      <th>3</th>\n",
       "      <td>1944</td>\n",
       "      <td>NaN</td>\n",
       "      <td>NaN</td>\n",
       "      <td>Johnny Doesn't Live Here Anymore</td>\n",
       "      <td>Comedy</td>\n",
       "      <td>5.9</td>\n",
       "      <td>79</td>\n",
       "      <td>NaN</td>\n",
       "      <td>NaN</td>\n",
       "      <td>NaN</td>\n",
       "      <td>NaN</td>\n",
       "    </tr>\n",
       "    <tr>\n",
       "      <th>4</th>\n",
       "      <td>1945</td>\n",
       "      <td>NaN</td>\n",
       "      <td>NaN</td>\n",
       "      <td>Night Club Girl</td>\n",
       "      <td>Comedy</td>\n",
       "      <td>6.4</td>\n",
       "      <td>61</td>\n",
       "      <td>NaN</td>\n",
       "      <td>NaN</td>\n",
       "      <td>NaN</td>\n",
       "      <td>NaN</td>\n",
       "    </tr>\n",
       "  </tbody>\n",
       "</table>\n",
       "</div>"
      ],
      "text/plain": [
       "   year category  winner                             title     genres  rating  \\\n",
       "0  1993      NaN     NaN                     Dama de noche      Drama     6.2   \n",
       "1  1944      NaN     NaN                   Bermuda Mystery    Mystery     5.9   \n",
       "2  1944      NaN     NaN               Experiment Perilous  Film-Noir     6.5   \n",
       "3  1944      NaN     NaN  Johnny Doesn't Live Here Anymore     Comedy     5.9   \n",
       "4  1945      NaN     NaN                   Night Club Girl     Comedy     6.4   \n",
       "\n",
       "   runtimeMinutes nominated_for_sag  won_sag nominated_for_bafta  won_bafta  \n",
       "0             102               NaN      NaN                 NaN        NaN  \n",
       "1              65               NaN      NaN                 NaN        NaN  \n",
       "2              91               NaN      NaN                 NaN        NaN  \n",
       "3              79               NaN      NaN                 NaN        NaN  \n",
       "4              61               NaN      NaN                 NaN        NaN  "
      ]
     },
     "execution_count": 36,
     "metadata": {},
     "output_type": "execute_result"
    }
   ],
   "source": [
    "final_dataset_with_nom = pd.merge(final,all_raters_with_wins,on = 'title',how='left')\n",
    "final_dataset_with_nom.head()"
   ]
  },
  {
   "cell_type": "code",
   "execution_count": 37,
   "metadata": {
    "colab": {
     "base_uri": "https://localhost:8080/",
     "height": 34
    },
    "colab_type": "code",
    "id": "UgqwibZAQdsC",
    "outputId": "0ca3d781-bcfc-4c11-9aae-4586bc55b099"
   },
   "outputs": [
    {
     "data": {
      "text/plain": [
       "2148"
      ]
     },
     "execution_count": 37,
     "metadata": {},
     "output_type": "execute_result"
    }
   ],
   "source": [
    "final_dataset_with_nom = final_dataset_with_nom[final_dataset_with_nom['genres'] != '\\\\N']\n",
    "len(final_dataset_with_nom)"
   ]
  },
  {
   "cell_type": "code",
   "execution_count": 38,
   "metadata": {
    "colab": {},
    "colab_type": "code",
    "id": "5yGZZ1olQywU"
   },
   "outputs": [],
   "source": [
    "import numpy as np"
   ]
  },
  {
   "cell_type": "code",
   "execution_count": 39,
   "metadata": {
    "colab": {
     "base_uri": "https://localhost:8080/",
     "height": 343
    },
    "colab_type": "code",
    "id": "JoD8_tpJQsIP",
    "outputId": "29243c14-2bb8-48cc-cae8-9f9062bfe41a"
   },
   "outputs": [
    {
     "data": {
      "text/html": [
       "<div>\n",
       "<style scoped>\n",
       "    .dataframe tbody tr th:only-of-type {\n",
       "        vertical-align: middle;\n",
       "    }\n",
       "\n",
       "    .dataframe tbody tr th {\n",
       "        vertical-align: top;\n",
       "    }\n",
       "\n",
       "    .dataframe thead th {\n",
       "        text-align: right;\n",
       "    }\n",
       "</style>\n",
       "<table border=\"1\" class=\"dataframe\">\n",
       "  <thead>\n",
       "    <tr style=\"text-align: right;\">\n",
       "      <th></th>\n",
       "      <th>year</th>\n",
       "      <th>category</th>\n",
       "      <th>winner</th>\n",
       "      <th>title</th>\n",
       "      <th>genres</th>\n",
       "      <th>rating</th>\n",
       "      <th>runtimeMinutes</th>\n",
       "      <th>nominated_for_sag</th>\n",
       "      <th>won_sag</th>\n",
       "      <th>nominated_for_bafta</th>\n",
       "      <th>won_bafta</th>\n",
       "    </tr>\n",
       "  </thead>\n",
       "  <tbody>\n",
       "    <tr>\n",
       "      <th>0</th>\n",
       "      <td>1993</td>\n",
       "      <td>NaN</td>\n",
       "      <td>NaN</td>\n",
       "      <td>Dama de noche</td>\n",
       "      <td>Drama</td>\n",
       "      <td>6.2</td>\n",
       "      <td>102</td>\n",
       "      <td>0</td>\n",
       "      <td>NaN</td>\n",
       "      <td>0</td>\n",
       "      <td>NaN</td>\n",
       "    </tr>\n",
       "    <tr>\n",
       "      <th>1</th>\n",
       "      <td>1944</td>\n",
       "      <td>NaN</td>\n",
       "      <td>NaN</td>\n",
       "      <td>Bermuda Mystery</td>\n",
       "      <td>Mystery</td>\n",
       "      <td>5.9</td>\n",
       "      <td>65</td>\n",
       "      <td>0</td>\n",
       "      <td>NaN</td>\n",
       "      <td>0</td>\n",
       "      <td>NaN</td>\n",
       "    </tr>\n",
       "    <tr>\n",
       "      <th>2</th>\n",
       "      <td>1944</td>\n",
       "      <td>NaN</td>\n",
       "      <td>NaN</td>\n",
       "      <td>Experiment Perilous</td>\n",
       "      <td>Film-Noir</td>\n",
       "      <td>6.5</td>\n",
       "      <td>91</td>\n",
       "      <td>0</td>\n",
       "      <td>NaN</td>\n",
       "      <td>0</td>\n",
       "      <td>NaN</td>\n",
       "    </tr>\n",
       "    <tr>\n",
       "      <th>3</th>\n",
       "      <td>1944</td>\n",
       "      <td>NaN</td>\n",
       "      <td>NaN</td>\n",
       "      <td>Johnny Doesn't Live Here Anymore</td>\n",
       "      <td>Comedy</td>\n",
       "      <td>5.9</td>\n",
       "      <td>79</td>\n",
       "      <td>0</td>\n",
       "      <td>NaN</td>\n",
       "      <td>0</td>\n",
       "      <td>NaN</td>\n",
       "    </tr>\n",
       "    <tr>\n",
       "      <th>4</th>\n",
       "      <td>1945</td>\n",
       "      <td>NaN</td>\n",
       "      <td>NaN</td>\n",
       "      <td>Night Club Girl</td>\n",
       "      <td>Comedy</td>\n",
       "      <td>6.4</td>\n",
       "      <td>61</td>\n",
       "      <td>0</td>\n",
       "      <td>NaN</td>\n",
       "      <td>0</td>\n",
       "      <td>NaN</td>\n",
       "    </tr>\n",
       "  </tbody>\n",
       "</table>\n",
       "</div>"
      ],
      "text/plain": [
       "   year category  winner                             title     genres  rating  \\\n",
       "0  1993      NaN     NaN                     Dama de noche      Drama     6.2   \n",
       "1  1944      NaN     NaN                   Bermuda Mystery    Mystery     5.9   \n",
       "2  1944      NaN     NaN               Experiment Perilous  Film-Noir     6.5   \n",
       "3  1944      NaN     NaN  Johnny Doesn't Live Here Anymore     Comedy     5.9   \n",
       "4  1945      NaN     NaN                   Night Club Girl     Comedy     6.4   \n",
       "\n",
       "   runtimeMinutes  nominated_for_sag  won_sag  nominated_for_bafta  won_bafta  \n",
       "0             102                  0      NaN                    0        NaN  \n",
       "1              65                  0      NaN                    0        NaN  \n",
       "2              91                  0      NaN                    0        NaN  \n",
       "3              79                  0      NaN                    0        NaN  \n",
       "4              61                  0      NaN                    0        NaN  "
      ]
     },
     "execution_count": 39,
     "metadata": {},
     "output_type": "execute_result"
    }
   ],
   "source": [
    "bafta_win = {np.NaN: 0,'BAFTA': 1}\n",
    "final_dataset_with_nom.nominated_for_bafta = [bafta_win[item] for item in final_dataset_with_nom.nominated_for_bafta]\n",
    "sag_win = {np.NaN: 0,'SAG': 1}\n",
    "final_dataset_with_nom.nominated_for_sag = [sag_win[item] for item in final_dataset_with_nom.nominated_for_sag]\n",
    "\n",
    "final_dataset_with_nom.head()"
   ]
  },
  {
   "cell_type": "markdown",
   "metadata": {
    "colab_type": "text",
    "id": "0AqX97f_8gJF"
   },
   "source": [
    "# EDA"
   ]
  },
  {
   "cell_type": "markdown",
   "metadata": {
    "colab_type": "text",
    "id": "rQbAj42X8kZI"
   },
   "source": [
    "Since the BAFTAs and SAGs started later than the Oscars, we filtered out the movies that were released before 1960. We acknowledge that this may skew our final dataset when conducting ML, but decided it was OK for now.\n",
    "\n",
    "It turns out the SAGs are not a good indication of whether the movie will be nominated for Best Picture. BAFTAs was a little better, but still not as good as originally thought."
   ]
  },
  {
   "cell_type": "code",
   "execution_count": 40,
   "metadata": {
    "colab": {
     "base_uri": "https://localhost:8080/",
     "height": 71
    },
    "colab_type": "code",
    "id": "y9MPdu-nw1bs",
    "outputId": "e464f6e2-9de0-4293-d9c0-4070b65f7fe0"
   },
   "outputs": [
    {
     "name": "stderr",
     "output_type": "stream",
     "text": [
      "/Users/cdu2620/anaconda3/lib/python3.7/site-packages/ipykernel_launcher.py:3: FutureWarning: pandas.util.testing is deprecated. Use the functions in the public API at pandas.testing instead.\n",
      "  This is separate from the ipykernel package so we can avoid doing imports until\n"
     ]
    }
   ],
   "source": [
    "import seaborn as sns\n",
    "import matplotlib.pyplot as plt\n",
    "import pandas.util.testing as tm"
   ]
  },
  {
   "cell_type": "code",
   "execution_count": 41,
   "metadata": {
    "colab": {},
    "colab_type": "code",
    "id": "prnSdHRwwaBE"
   },
   "outputs": [],
   "source": [
    "eda_set = final_dataset_with_nom[final_dataset_with_nom['year'] > 1960]\n",
    "eda_set = eda_set[['winner', 'nominated_for_sag', 'nominated_for_bafta']]\n",
    "y = eda_set[eda_set['winner'] == 1]"
   ]
  },
  {
   "cell_type": "code",
   "execution_count": 42,
   "metadata": {
    "colab": {
     "base_uri": "https://localhost:8080/",
     "height": 460
    },
    "colab_type": "code",
    "id": "RoXglIC7wp1O",
    "outputId": "4cadf1b8-f644-45cc-def9-7a678d44623d"
   },
   "outputs": [
    {
     "data": {
      "text/plain": [
       "<matplotlib.axes._subplots.AxesSubplot at 0x12f3afa90>"
      ]
     },
     "execution_count": 42,
     "metadata": {},
     "output_type": "execute_result"
    },
    {
     "data": {
      "image/png": "[encoded data removed]",
      "text/plain": [
       "<Figure size 1008x504 with 2 Axes>"
      ]
     },
     "metadata": {
      "needs_background": "light"
     },
     "output_type": "display_data"
    }
   ],
   "source": [
    "fig, (ax1, ax2) = plt.subplots(figsize=(14,7),ncols=2, sharey=True)\n",
    "\n",
    "sns.countplot(x=\"nominated_for_sag\", data=y, ax=ax1)\n",
    "sns.countplot(x=\"nominated_for_bafta\", data=y, ax=ax2)"
   ]
  },
  {
   "cell_type": "markdown",
   "metadata": {
    "colab_type": "text",
    "id": "U_fMhK1A86Ld"
   },
   "source": [
    "Genres, however, proved to be much more helpful. As you can see, the overwhelming majority of Best Picture nominees are dramas. Given that we randomly selected 1 genre for multi-genre movies, there could be even more."
   ]
  },
  {
   "cell_type": "code",
   "execution_count": 43,
   "metadata": {
    "colab": {
     "base_uri": "https://localhost:8080/",
     "height": 459
    },
    "colab_type": "code",
    "id": "pyvioI9fxUcQ",
    "outputId": "e478a77c-6093-4413-996a-cd5847a546a1"
   },
   "outputs": [
    {
     "data": {
      "text/plain": [
       "<matplotlib.axes._subplots.AxesSubplot at 0x13c71d610>"
      ]
     },
     "execution_count": 43,
     "metadata": {},
     "output_type": "execute_result"
    },
    {
     "data": {
      "image/png": "[encoded data removed]",
      "text/plain": [
       "<Figure size 1008x504 with 1 Axes>"
      ]
     },
     "metadata": {
      "needs_background": "light"
     },
     "output_type": "display_data"
    }
   ],
   "source": [
    "winners_only = final_dataset_with_nom[final_dataset_with_nom['winner'] == 1]\n",
    "f, axis = plt.subplots(figsize=(14, 7))\n",
    "sns.countplot(x='genres', data=winners_only)"
   ]
  },
  {
   "cell_type": "markdown",
   "metadata": {
    "colab_type": "text",
    "id": "5fHj7pXb9JDk"
   },
   "source": [
    "In order to work with genres for ML, we gave each genre a number."
   ]
  },
  {
   "cell_type": "code",
   "execution_count": 44,
   "metadata": {
    "colab": {},
    "colab_type": "code",
    "id": "tJMRPdcdQuj2"
   },
   "outputs": [],
   "source": [
    "\n",
    "genres = {'Crime': 0,'Drama': 1, 'Comedy': 2, 'Mystery': 3, 'Action' : 4, \n",
    "          'Adventure' : 5, 'Musical' : 6, 'Film-Noir' : 7, 'Children' : 8,\n",
    "          'Animation' : 9, 'Western' : 10, 'Thriller' : 11, 'Sci-Fi' : 12,\n",
    "          'Horror' : 13, 'Documentary' : 14, 'Romance' : 15, 'War' : 16, \n",
    "          '(no genres listed)' : 17, 'Fantasy' : 18, 'Biography' : 19, 'Music' : 20, \n",
    "          'History' : 21, 'Family' : 22, 'Adult' : 23, 'Adveture' : 5, 'Sport' : 25,\n",
    "          'News': 26, 'Reality-TV' : 27\n",
    " \n",
    "          }\n",
    "final_dataset_with_nom.genres = [genres[item] for item in final_dataset_with_nom.genres]"
   ]
  },
  {
   "cell_type": "code",
   "execution_count": 45,
   "metadata": {
    "colab": {
     "base_uri": "https://localhost:8080/",
     "height": 343
    },
    "colab_type": "code",
    "id": "c42UK7zGRIJG",
    "outputId": "ccc88dc3-5b27-440e-ad0e-d31ac51abcea"
   },
   "outputs": [
    {
     "data": {
      "text/html": [
       "<div>\n",
       "<style scoped>\n",
       "    .dataframe tbody tr th:only-of-type {\n",
       "        vertical-align: middle;\n",
       "    }\n",
       "\n",
       "    .dataframe tbody tr th {\n",
       "        vertical-align: top;\n",
       "    }\n",
       "\n",
       "    .dataframe thead th {\n",
       "        text-align: right;\n",
       "    }\n",
       "</style>\n",
       "<table border=\"1\" class=\"dataframe\">\n",
       "  <thead>\n",
       "    <tr style=\"text-align: right;\">\n",
       "      <th></th>\n",
       "      <th>year</th>\n",
       "      <th>category</th>\n",
       "      <th>winner</th>\n",
       "      <th>title</th>\n",
       "      <th>genres</th>\n",
       "      <th>rating</th>\n",
       "      <th>runtimeMinutes</th>\n",
       "      <th>nominated_for_sag</th>\n",
       "      <th>won_sag</th>\n",
       "      <th>nominated_for_bafta</th>\n",
       "      <th>won_bafta</th>\n",
       "    </tr>\n",
       "  </thead>\n",
       "  <tbody>\n",
       "    <tr>\n",
       "      <th>0</th>\n",
       "      <td>1993</td>\n",
       "      <td>NaN</td>\n",
       "      <td>NaN</td>\n",
       "      <td>Dama de noche</td>\n",
       "      <td>1</td>\n",
       "      <td>6.2</td>\n",
       "      <td>102</td>\n",
       "      <td>0</td>\n",
       "      <td>NaN</td>\n",
       "      <td>0</td>\n",
       "      <td>NaN</td>\n",
       "    </tr>\n",
       "    <tr>\n",
       "      <th>1</th>\n",
       "      <td>1944</td>\n",
       "      <td>NaN</td>\n",
       "      <td>NaN</td>\n",
       "      <td>Bermuda Mystery</td>\n",
       "      <td>3</td>\n",
       "      <td>5.9</td>\n",
       "      <td>65</td>\n",
       "      <td>0</td>\n",
       "      <td>NaN</td>\n",
       "      <td>0</td>\n",
       "      <td>NaN</td>\n",
       "    </tr>\n",
       "    <tr>\n",
       "      <th>2</th>\n",
       "      <td>1944</td>\n",
       "      <td>NaN</td>\n",
       "      <td>NaN</td>\n",
       "      <td>Experiment Perilous</td>\n",
       "      <td>7</td>\n",
       "      <td>6.5</td>\n",
       "      <td>91</td>\n",
       "      <td>0</td>\n",
       "      <td>NaN</td>\n",
       "      <td>0</td>\n",
       "      <td>NaN</td>\n",
       "    </tr>\n",
       "    <tr>\n",
       "      <th>3</th>\n",
       "      <td>1944</td>\n",
       "      <td>NaN</td>\n",
       "      <td>NaN</td>\n",
       "      <td>Johnny Doesn't Live Here Anymore</td>\n",
       "      <td>2</td>\n",
       "      <td>5.9</td>\n",
       "      <td>79</td>\n",
       "      <td>0</td>\n",
       "      <td>NaN</td>\n",
       "      <td>0</td>\n",
       "      <td>NaN</td>\n",
       "    </tr>\n",
       "    <tr>\n",
       "      <th>4</th>\n",
       "      <td>1945</td>\n",
       "      <td>NaN</td>\n",
       "      <td>NaN</td>\n",
       "      <td>Night Club Girl</td>\n",
       "      <td>2</td>\n",
       "      <td>6.4</td>\n",
       "      <td>61</td>\n",
       "      <td>0</td>\n",
       "      <td>NaN</td>\n",
       "      <td>0</td>\n",
       "      <td>NaN</td>\n",
       "    </tr>\n",
       "  </tbody>\n",
       "</table>\n",
       "</div>"
      ],
      "text/plain": [
       "   year category  winner                             title  genres  rating  \\\n",
       "0  1993      NaN     NaN                     Dama de noche       1     6.2   \n",
       "1  1944      NaN     NaN                   Bermuda Mystery       3     5.9   \n",
       "2  1944      NaN     NaN               Experiment Perilous       7     6.5   \n",
       "3  1944      NaN     NaN  Johnny Doesn't Live Here Anymore       2     5.9   \n",
       "4  1945      NaN     NaN                   Night Club Girl       2     6.4   \n",
       "\n",
       "   runtimeMinutes  nominated_for_sag  won_sag  nominated_for_bafta  won_bafta  \n",
       "0             102                  0      NaN                    0        NaN  \n",
       "1              65                  0      NaN                    0        NaN  \n",
       "2              91                  0      NaN                    0        NaN  \n",
       "3              79                  0      NaN                    0        NaN  \n",
       "4              61                  0      NaN                    0        NaN  "
      ]
     },
     "execution_count": 45,
     "metadata": {},
     "output_type": "execute_result"
    }
   ],
   "source": [
    "final_dataset_with_nom.head()"
   ]
  },
  {
   "cell_type": "code",
   "execution_count": 46,
   "metadata": {
    "colab": {
     "base_uri": "https://localhost:8080/",
     "height": 221
    },
    "colab_type": "code",
    "id": "UBZIDMTflNLZ",
    "outputId": "2456d5d9-bb9f-47b0-992b-30992a8109ea"
   },
   "outputs": [
    {
     "data": {
      "text/plain": [
       "year                      0\n",
       "category               1736\n",
       "winner                 1736\n",
       "title                     0\n",
       "genres                    0\n",
       "rating                    0\n",
       "runtimeMinutes            0\n",
       "nominated_for_sag         0\n",
       "won_sag                2068\n",
       "nominated_for_bafta       0\n",
       "won_bafta              1991\n",
       "dtype: int64"
      ]
     },
     "execution_count": 46,
     "metadata": {},
     "output_type": "execute_result"
    }
   ],
   "source": [
    "final_dataset_with_nom.isna().sum()"
   ]
  },
  {
   "cell_type": "code",
   "execution_count": 47,
   "metadata": {
    "colab": {},
    "colab_type": "code",
    "id": "XQM8IMkZJKqh"
   },
   "outputs": [],
   "source": [
    "final_dataset_with_nom = final_dataset_with_nom.sort_values(by=['year'])"
   ]
  },
  {
   "cell_type": "code",
   "execution_count": 48,
   "metadata": {
    "colab": {
     "base_uri": "https://localhost:8080/",
     "height": 360
    },
    "colab_type": "code",
    "id": "MgHHlYCuJQe9",
    "outputId": "c1ff1a34-04de-4c46-b429-7c122ec0a52c"
   },
   "outputs": [
    {
     "data": {
      "text/html": [
       "<div>\n",
       "<style scoped>\n",
       "    .dataframe tbody tr th:only-of-type {\n",
       "        vertical-align: middle;\n",
       "    }\n",
       "\n",
       "    .dataframe tbody tr th {\n",
       "        vertical-align: top;\n",
       "    }\n",
       "\n",
       "    .dataframe thead th {\n",
       "        text-align: right;\n",
       "    }\n",
       "</style>\n",
       "<table border=\"1\" class=\"dataframe\">\n",
       "  <thead>\n",
       "    <tr style=\"text-align: right;\">\n",
       "      <th></th>\n",
       "      <th>year</th>\n",
       "      <th>category</th>\n",
       "      <th>winner</th>\n",
       "      <th>title</th>\n",
       "      <th>genres</th>\n",
       "      <th>rating</th>\n",
       "      <th>runtimeMinutes</th>\n",
       "      <th>nominated_for_sag</th>\n",
       "      <th>won_sag</th>\n",
       "      <th>nominated_for_bafta</th>\n",
       "      <th>won_bafta</th>\n",
       "    </tr>\n",
       "  </thead>\n",
       "  <tbody>\n",
       "    <tr>\n",
       "      <th>1805</th>\n",
       "      <td>1944</td>\n",
       "      <td>BEST PICTURE</td>\n",
       "      <td>1.0</td>\n",
       "      <td>Going My Way</td>\n",
       "      <td>2</td>\n",
       "      <td>7.2</td>\n",
       "      <td>126</td>\n",
       "      <td>0</td>\n",
       "      <td>NaN</td>\n",
       "      <td>0</td>\n",
       "      <td>NaN</td>\n",
       "    </tr>\n",
       "    <tr>\n",
       "      <th>745</th>\n",
       "      <td>1944</td>\n",
       "      <td>NaN</td>\n",
       "      <td>NaN</td>\n",
       "      <td>How to Fly the B-26 Airplane</td>\n",
       "      <td>14</td>\n",
       "      <td>5.7</td>\n",
       "      <td>47</td>\n",
       "      <td>0</td>\n",
       "      <td>NaN</td>\n",
       "      <td>0</td>\n",
       "      <td>NaN</td>\n",
       "    </tr>\n",
       "    <tr>\n",
       "      <th>1807</th>\n",
       "      <td>1944</td>\n",
       "      <td>BEST PICTURE</td>\n",
       "      <td>0.0</td>\n",
       "      <td>Wilson</td>\n",
       "      <td>1</td>\n",
       "      <td>6.8</td>\n",
       "      <td>154</td>\n",
       "      <td>0</td>\n",
       "      <td>NaN</td>\n",
       "      <td>0</td>\n",
       "      <td>NaN</td>\n",
       "    </tr>\n",
       "    <tr>\n",
       "      <th>1806</th>\n",
       "      <td>1944</td>\n",
       "      <td>BEST PICTURE</td>\n",
       "      <td>0.0</td>\n",
       "      <td>Since You Went Away</td>\n",
       "      <td>1</td>\n",
       "      <td>7.6</td>\n",
       "      <td>177</td>\n",
       "      <td>0</td>\n",
       "      <td>NaN</td>\n",
       "      <td>0</td>\n",
       "      <td>NaN</td>\n",
       "    </tr>\n",
       "    <tr>\n",
       "      <th>1803</th>\n",
       "      <td>1944</td>\n",
       "      <td>BEST PICTURE</td>\n",
       "      <td>0.0</td>\n",
       "      <td>Double Indemnity</td>\n",
       "      <td>0</td>\n",
       "      <td>8.3</td>\n",
       "      <td>107</td>\n",
       "      <td>0</td>\n",
       "      <td>NaN</td>\n",
       "      <td>0</td>\n",
       "      <td>NaN</td>\n",
       "    </tr>\n",
       "  </tbody>\n",
       "</table>\n",
       "</div>"
      ],
      "text/plain": [
       "      year      category  winner                         title  genres  \\\n",
       "1805  1944  BEST PICTURE     1.0                  Going My Way       2   \n",
       "745   1944           NaN     NaN  How to Fly the B-26 Airplane      14   \n",
       "1807  1944  BEST PICTURE     0.0                        Wilson       1   \n",
       "1806  1944  BEST PICTURE     0.0           Since You Went Away       1   \n",
       "1803  1944  BEST PICTURE     0.0              Double Indemnity       0   \n",
       "\n",
       "      rating  runtimeMinutes  nominated_for_sag  won_sag  nominated_for_bafta  \\\n",
       "1805     7.2             126                  0      NaN                    0   \n",
       "745      5.7              47                  0      NaN                    0   \n",
       "1807     6.8             154                  0      NaN                    0   \n",
       "1806     7.6             177                  0      NaN                    0   \n",
       "1803     8.3             107                  0      NaN                    0   \n",
       "\n",
       "      won_bafta  \n",
       "1805        NaN  \n",
       "745         NaN  \n",
       "1807        NaN  \n",
       "1806        NaN  \n",
       "1803        NaN  "
      ]
     },
     "execution_count": 48,
     "metadata": {},
     "output_type": "execute_result"
    }
   ],
   "source": [
    "final_dataset_with_nom.head()"
   ]
  },
  {
   "cell_type": "markdown",
   "metadata": {
    "colab_type": "text",
    "id": "anNhcZ0e9UUJ"
   },
   "source": [
    "# Machine Learning"
   ]
  },
  {
   "cell_type": "markdown",
   "metadata": {
    "colab_type": "text",
    "id": "6F5jXlXN-7BY"
   },
   "source": [
    "Moving onto the machine learning portion, we first allocated our training and testing sets. We allocated 33% of our final dataset for testing set and the other 67% for our training set. "
   ]
  },
  {
   "cell_type": "code",
   "execution_count": 49,
   "metadata": {
    "colab": {},
    "colab_type": "code",
    "id": "FexWVy3GSSOE"
   },
   "outputs": [],
   "source": [
    "from sklearn.model_selection import train_test_split\n",
    "#data = [[genre, rating, nominees_for_other_movies, duration]]\n",
    "#target = [0 or 1] NaN is no nominated, BAFTA/SAG is nominated\n",
    "#we should change BAFTA/SAG to 1\n",
    "\n",
    "final_features = []\n",
    "final_results = []\n",
    "for index, row in final_dataset_with_nom.iterrows():\n",
    "  features = [row['genres'], int(row['rating']),\n",
    "             row['nominated_for_bafta'], row['nominated_for_sag'], \n",
    "              row['runtimeMinutes']\n",
    "  ]\n",
    "  if (np.isnan(row['winner'])):\n",
    "    results = 0\n",
    "  else:\n",
    "    results = 1\n",
    "  final_features.append(features)\n",
    "  final_results.append(results)\n",
    "\n",
    "data = np.array(final_features)\n",
    "target = np.array(final_results)\n",
    "\n",
    "\n",
    "X_train, X_test, y_train, y_test = train_test_split(data, target, test_size=0.33, random_state=42)"
   ]
  },
  {
   "cell_type": "code",
   "execution_count": 50,
   "metadata": {
    "colab": {
     "base_uri": "https://localhost:8080/",
     "height": 136
    },
    "colab_type": "code",
    "id": "ydClbfpIScUO",
    "outputId": "ff517368-55c3-4fa3-bd99-247b294dd97c"
   },
   "outputs": [
    {
     "data": {
      "text/plain": [
       "array([[  2,   7,   0,   0, 126],\n",
       "       [ 14,   5,   0,   0,  47],\n",
       "       [  1,   6,   0,   0, 154],\n",
       "       ...,\n",
       "       [  2,   6,   0,   0, 105],\n",
       "       [ 14,   8,   0,   0,  75],\n",
       "       [ 18,   8,   0,   0, 114]])"
      ]
     },
     "execution_count": 50,
     "metadata": {},
     "output_type": "execute_result"
    }
   ],
   "source": [
    "data"
   ]
  },
  {
   "cell_type": "markdown",
   "metadata": {
    "colab_type": "text",
    "id": "V_cN6SIh_RFM"
   },
   "source": [
    "For our first method, we decided to utilize the Naive Bayes method. We were curious to see how the training set would correctly predict the results of the testing set."
   ]
  },
  {
   "cell_type": "code",
   "execution_count": 51,
   "metadata": {
    "colab": {},
    "colab_type": "code",
    "id": "D4RKWUyOSg0j"
   },
   "outputs": [],
   "source": [
    "from sklearn.naive_bayes import GaussianNB"
   ]
  },
  {
   "cell_type": "code",
   "execution_count": 52,
   "metadata": {
    "colab": {},
    "colab_type": "code",
    "id": "FRGo8s8bSjnS"
   },
   "outputs": [],
   "source": [
    "model = GaussianNB()\n",
    " \n",
    "model.fit(X_train, y_train)\n",
    "predicted = model.predict(X_test)\n",
    "y_predicted = model.predict(X_train)\n",
    "y_expected = y_train"
   ]
  },
  {
   "cell_type": "code",
   "execution_count": 53,
   "metadata": {
    "colab": {
     "base_uri": "https://localhost:8080/",
     "height": 238
    },
    "colab_type": "code",
    "id": "yFlKcaUYSk9p",
    "outputId": "0992a9f1-b288-49e3-dc7d-e9261c0444de"
   },
   "outputs": [
    {
     "name": "stdout",
     "output_type": "stream",
     "text": [
      "0.8846421125781793\n",
      "\n",
      "              precision    recall  f1-score   support\n",
      "\n",
      "           0       0.88      1.00      0.93      1154\n",
      "           1       0.98      0.43      0.60       285\n",
      "\n",
      "    accuracy                           0.88      1439\n",
      "   macro avg       0.93      0.71      0.76      1439\n",
      "weighted avg       0.90      0.88      0.87      1439\n",
      "\n",
      "[[1151    3]\n",
      " [ 163  122]]\n"
     ]
    }
   ],
   "source": [
    "from sklearn import metrics\n",
    "print(metrics.accuracy_score(y_expected, y_predicted))\n",
    "print()\n",
    "print(metrics.classification_report(y_expected, y_predicted))\n",
    "print(metrics.confusion_matrix(y_expected, y_predicted))"
   ]
  },
  {
   "cell_type": "markdown",
   "metadata": {
    "colab_type": "text",
    "id": "-TA9CAf5_x2P"
   },
   "source": [
    "Overall, we see that this model has over a 80% chance of correctly predicting that a movie wouldn't be nominated for an Oscar. Meanwhile, the model has over 90% chance of correctly predicting that a movie would be nominated. \n",
    "\n",
    "While this is pretty decent for a first try, we were still a bit wary and wanted to try out another machine learning model. We will perform logistic regression on our dataset. However before that we used Scikit-learn's OneHotEncoder to readjust our data in hopes of improving the performance of the regression. "
   ]
  },
  {
   "cell_type": "code",
   "execution_count": 54,
   "metadata": {
    "colab": {},
    "colab_type": "code",
    "id": "KAX0kt-2Smf9"
   },
   "outputs": [],
   "source": [
    "from sklearn.preprocessing import OneHotEncoder\n",
    "from sklearn.impute import SimpleImputer\n",
    "from sklearn.compose import make_column_transformer"
   ]
  },
  {
   "cell_type": "code",
   "execution_count": 55,
   "metadata": {
    "colab": {},
    "colab_type": "code",
    "id": "h20u1yZTkG56"
   },
   "outputs": [],
   "source": [
    "OHE = OneHotEncoder(sparse=False)\n",
    "\n",
    "IMP = SimpleImputer()"
   ]
  },
  {
   "cell_type": "code",
   "execution_count": 56,
   "metadata": {
    "colab": {
     "base_uri": "https://localhost:8080/",
     "height": 51
    },
    "colab_type": "code",
    "id": "rlG6wFOFkVPK",
    "outputId": "819cb9a4-3aaf-46e6-eb42-8e3527b453d0"
   },
   "outputs": [
    {
     "data": {
      "text/plain": [
       "OneHotEncoder(categories='auto', drop=None, dtype=<class 'numpy.float64'>,\n",
       "              handle_unknown='error', sparse=False)"
      ]
     },
     "execution_count": 56,
     "metadata": {},
     "output_type": "execute_result"
    }
   ],
   "source": [
    "OHE.fit(final_dataset_with_nom[['nominated_for_bafta']])"
   ]
  },
  {
   "cell_type": "code",
   "execution_count": 57,
   "metadata": {
    "colab": {
     "base_uri": "https://localhost:8080/",
     "height": 136
    },
    "colab_type": "code",
    "id": "dP5ZPbtolgQO",
    "outputId": "afaac964-f5c7-4e1a-f32a-ff4b6e92c068"
   },
   "outputs": [
    {
     "data": {
      "text/plain": [
       "array([[1., 0.],\n",
       "       [1., 0.],\n",
       "       [1., 0.],\n",
       "       ...,\n",
       "       [1., 0.],\n",
       "       [1., 0.],\n",
       "       [1., 0.]])"
      ]
     },
     "execution_count": 57,
     "metadata": {},
     "output_type": "execute_result"
    }
   ],
   "source": [
    "OHE.transform(final_dataset_with_nom[['nominated_for_bafta']])"
   ]
  },
  {
   "cell_type": "code",
   "execution_count": 58,
   "metadata": {
    "colab": {
     "base_uri": "https://localhost:8080/",
     "height": 51
    },
    "colab_type": "code",
    "id": "m7ZrrJD7lpUA",
    "outputId": "eae8c488-4531-42b4-a619-3e2fcb02588f"
   },
   "outputs": [
    {
     "data": {
      "text/plain": [
       "SimpleImputer(add_indicator=False, copy=True, fill_value=None,\n",
       "              missing_values=nan, strategy='mean', verbose=0)"
      ]
     },
     "execution_count": 58,
     "metadata": {},
     "output_type": "execute_result"
    }
   ],
   "source": [
    "IMP.fit(final_dataset_with_nom[['rating']])"
   ]
  },
  {
   "cell_type": "code",
   "execution_count": 59,
   "metadata": {
    "colab": {
     "base_uri": "https://localhost:8080/",
     "height": 119
    },
    "colab_type": "code",
    "id": "wClZDUgtl6nC",
    "outputId": "63d38cd1-7953-4467-daaf-ecbf5652d899"
   },
   "outputs": [
    {
     "data": {
      "text/plain": [
       "1805    7.2\n",
       "745     5.7\n",
       "1807    6.8\n",
       "1806    7.6\n",
       "1803    8.3\n",
       "Name: rating, dtype: float64"
      ]
     },
     "execution_count": 59,
     "metadata": {},
     "output_type": "execute_result"
    }
   ],
   "source": [
    "final_dataset_with_nom.rating.head()"
   ]
  },
  {
   "cell_type": "code",
   "execution_count": 60,
   "metadata": {
    "colab": {},
    "colab_type": "code",
    "id": "gUgenoBymAT2"
   },
   "outputs": [],
   "source": [
    "ct = make_column_transformer((OHE, ['nominated_for_bafta', 'nominated_for_sag']), (IMP, ['rating', 'runtimeMinutes', 'genres']), remainder='passthrough')"
   ]
  },
  {
   "cell_type": "code",
   "execution_count": 61,
   "metadata": {
    "colab": {
     "base_uri": "https://localhost:8080/",
     "height": 204
    },
    "colab_type": "code",
    "id": "bVik8Plmmt6x",
    "outputId": "0b56669b-5d0e-42a6-f59e-759336cab1a1"
   },
   "outputs": [
    {
     "data": {
      "text/html": [
       "<div>\n",
       "<style scoped>\n",
       "    .dataframe tbody tr th:only-of-type {\n",
       "        vertical-align: middle;\n",
       "    }\n",
       "\n",
       "    .dataframe tbody tr th {\n",
       "        vertical-align: top;\n",
       "    }\n",
       "\n",
       "    .dataframe thead th {\n",
       "        text-align: right;\n",
       "    }\n",
       "</style>\n",
       "<table border=\"1\" class=\"dataframe\">\n",
       "  <thead>\n",
       "    <tr style=\"text-align: right;\">\n",
       "      <th></th>\n",
       "      <th>nominated_for_bafta</th>\n",
       "      <th>nominated_for_sag</th>\n",
       "      <th>genres</th>\n",
       "      <th>rating</th>\n",
       "      <th>runtimeMinutes</th>\n",
       "    </tr>\n",
       "  </thead>\n",
       "  <tbody>\n",
       "    <tr>\n",
       "      <th>1805</th>\n",
       "      <td>0</td>\n",
       "      <td>0</td>\n",
       "      <td>2</td>\n",
       "      <td>7.2</td>\n",
       "      <td>126</td>\n",
       "    </tr>\n",
       "    <tr>\n",
       "      <th>745</th>\n",
       "      <td>0</td>\n",
       "      <td>0</td>\n",
       "      <td>14</td>\n",
       "      <td>5.7</td>\n",
       "      <td>47</td>\n",
       "    </tr>\n",
       "    <tr>\n",
       "      <th>1807</th>\n",
       "      <td>0</td>\n",
       "      <td>0</td>\n",
       "      <td>1</td>\n",
       "      <td>6.8</td>\n",
       "      <td>154</td>\n",
       "    </tr>\n",
       "    <tr>\n",
       "      <th>1806</th>\n",
       "      <td>0</td>\n",
       "      <td>0</td>\n",
       "      <td>1</td>\n",
       "      <td>7.6</td>\n",
       "      <td>177</td>\n",
       "    </tr>\n",
       "    <tr>\n",
       "      <th>1803</th>\n",
       "      <td>0</td>\n",
       "      <td>0</td>\n",
       "      <td>0</td>\n",
       "      <td>8.3</td>\n",
       "      <td>107</td>\n",
       "    </tr>\n",
       "  </tbody>\n",
       "</table>\n",
       "</div>"
      ],
      "text/plain": [
       "      nominated_for_bafta  nominated_for_sag  genres  rating  runtimeMinutes\n",
       "1805                    0                  0       2     7.2             126\n",
       "745                     0                  0      14     5.7              47\n",
       "1807                    0                  0       1     6.8             154\n",
       "1806                    0                  0       1     7.6             177\n",
       "1803                    0                  0       0     8.3             107"
      ]
     },
     "execution_count": 61,
     "metadata": {},
     "output_type": "execute_result"
    }
   ],
   "source": [
    "cols = ['nominated_for_bafta', 'nominated_for_sag', 'genres', 'rating', 'runtimeMinutes']\n",
    "\n",
    "final_df = final_dataset_with_nom[cols]\n",
    "final_df.head()"
   ]
  },
  {
   "cell_type": "code",
   "execution_count": 62,
   "metadata": {
    "colab": {
     "base_uri": "https://localhost:8080/",
     "height": 357
    },
    "colab_type": "code",
    "id": "wGEXpTPLnBoC",
    "outputId": "d48dd1a8-303a-4e78-f6dc-33c66d39cae8"
   },
   "outputs": [
    {
     "data": {
      "text/plain": [
       "array([[  1. ,   0. ,   1. ,   0. ,   7.2, 126. ,   2. ],\n",
       "       [  1. ,   0. ,   1. ,   0. ,   5.7,  47. ,  14. ],\n",
       "       [  1. ,   0. ,   1. ,   0. ,   6.8, 154. ,   1. ],\n",
       "       [  1. ,   0. ,   1. ,   0. ,   7.6, 177. ,   1. ],\n",
       "       [  1. ,   0. ,   1. ,   0. ,   8.3, 107. ,   0. ]])"
      ]
     },
     "execution_count": 62,
     "metadata": {},
     "output_type": "execute_result"
    }
   ],
   "source": [
    "a = ct.fit_transform(final_df)\n",
    "\n",
    "a[:5, :]"
   ]
  },
  {
   "cell_type": "markdown",
   "metadata": {
    "colab_type": "text",
    "id": "7ChlMDvOB6O1"
   },
   "source": [
    "With the data now converted as needed, we can perform the logistic regression. "
   ]
  },
  {
   "cell_type": "code",
   "execution_count": 63,
   "metadata": {
    "colab": {},
    "colab_type": "code",
    "id": "qsOO7iAJnL2Y"
   },
   "outputs": [],
   "source": [
    "\n",
    "from sklearn.linear_model import LogisticRegression"
   ]
  },
  {
   "cell_type": "markdown",
   "metadata": {
    "colab_type": "text",
    "id": "dowULnPHDes8"
   },
   "source": [
    "In the final dataset, we found that some of our winner values were n/a. Thus we replaced the n/a values with 0, assuming that these movies didn't win."
   ]
  },
  {
   "cell_type": "code",
   "execution_count": 64,
   "metadata": {
    "colab": {
     "base_uri": "https://localhost:8080/",
     "height": 34
    },
    "colab_type": "code",
    "id": "sOg8NMVIpSmq",
    "outputId": "0a476cfa-1147-4f70-8124-420b4fa67ddf"
   },
   "outputs": [
    {
     "data": {
      "text/plain": [
       "array([1, 0])"
      ]
     },
     "execution_count": 64,
     "metadata": {},
     "output_type": "execute_result"
    }
   ],
   "source": [
    "final_dataset_with_nom['winner'] = final_dataset_with_nom['winner'].fillna(55)\n",
    "final_dataset_with_nom.winner.unique()\n",
    "\n",
    "oscar_nom = {55: 0, 0: 1, 1: 1}\n",
    "final_dataset_with_nom.winner = [oscar_nom[item] for item in final_dataset_with_nom.winner]\n",
    "final_dataset_with_nom.winner.unique()"
   ]
  },
  {
   "cell_type": "code",
   "execution_count": 65,
   "metadata": {
    "colab": {},
    "colab_type": "code",
    "id": "xGUVjLXkq8mD"
   },
   "outputs": [],
   "source": [
    "from sklearn.model_selection import cross_val_score"
   ]
  },
  {
   "cell_type": "code",
   "execution_count": 66,
   "metadata": {
    "colab": {
     "base_uri": "https://localhost:8080/",
     "height": 34
    },
    "colab_type": "code",
    "id": "x3l3gxHLnkaE",
    "outputId": "863b101b-f916-4c0b-c2c8-989ce3bcae68"
   },
   "outputs": [
    {
     "data": {
      "text/plain": [
       "array([0.80697674, 0.86511628, 0.88139535, 0.93006993, 0.8997669 ])"
      ]
     },
     "execution_count": 66,
     "metadata": {},
     "output_type": "execute_result"
    }
   ],
   "source": [
    "x = final_dataset_with_nom[['nominated_for_bafta']]\n",
    "\n",
    "y = final_dataset_with_nom.winner\n",
    "lgr = LogisticRegression(max_iter=7000)\n",
    "cross_val_score(lgr, x, y, cv=5, scoring='accuracy')"
   ]
  },
  {
   "cell_type": "code",
   "execution_count": 67,
   "metadata": {
    "colab": {},
    "colab_type": "code",
    "id": "Vn2lw8cDrTyF"
   },
   "outputs": [],
   "source": [
    "from sklearn.pipeline import make_pipeline"
   ]
  },
  {
   "cell_type": "markdown",
   "metadata": {
    "colab_type": "text",
    "id": "orKwM6s5D-oU"
   },
   "source": [
    "We wanted to see what the performance accuracy was based on the following features: BAFTA nomination, SAG nomination, rating, runtime, and genre. "
   ]
  },
  {
   "cell_type": "code",
   "execution_count": 68,
   "metadata": {
    "colab": {
     "base_uri": "https://localhost:8080/",
     "height": 34
    },
    "colab_type": "code",
    "id": "V_CkeF6nr7AD",
    "outputId": "c1516330-bdf8-4683-84f9-f897b11a2fee"
   },
   "outputs": [
    {
     "data": {
      "text/plain": [
       "0.8896991380712311"
      ]
     },
     "execution_count": 68,
     "metadata": {},
     "output_type": "execute_result"
    }
   ],
   "source": [
    "\n",
    "ct2 = make_column_transformer((OHE, ['nominated_for_bafta', 'nominated_for_sag']), (IMP, ['rating', 'runtimeMinutes', 'genres']), remainder='passthrough')\n",
    "p1 = make_pipeline(ct2, lgr)\n",
    "\n",
    "X = final_df\n",
    "\n",
    "Y = final_dataset_with_nom.winner\n",
    "\n",
    "\n",
    "cross_val_score(p1, X, Y, cv=5, scoring='accuracy').mean()\n"
   ]
  },
  {
   "cell_type": "markdown",
   "metadata": {
    "colab_type": "text",
    "id": "SGtEfaMhEXQc"
   },
   "source": [
    "Pretty high, but let's see the performance accuracy for a single feature. Let's try genres, rating, runtime, and nominations for other awards, in that order."
   ]
  },
  {
   "cell_type": "code",
   "execution_count": 69,
   "metadata": {},
   "outputs": [
    {
     "data": {
      "text/plain": [
       "0.8081942863338213"
      ]
     },
     "execution_count": 69,
     "metadata": {},
     "output_type": "execute_result"
    }
   ],
   "source": [
    "x2 = final_dataset_with_nom[['genres']]\n",
    "\n",
    "y = final_dataset_with_nom.winner\n",
    "lgr = LogisticRegression(max_iter=7000)\n",
    "cross_val_score(lgr, x2, y, cv=5, scoring='accuracy').mean()"
   ]
  },
  {
   "cell_type": "code",
   "execution_count": 70,
   "metadata": {},
   "outputs": [
    {
     "data": {
      "text/plain": [
       "0.7769924648994417"
      ]
     },
     "execution_count": 70,
     "metadata": {},
     "output_type": "execute_result"
    }
   ],
   "source": [
    "x4 = final_dataset_with_nom[['rating']]\n",
    "\n",
    "y = final_dataset_with_nom.winner\n",
    "lgr = LogisticRegression(max_iter=7000)\n",
    "cross_val_score(lgr, x4, y, cv=5, scoring='accuracy').mean()"
   ]
  },
  {
   "cell_type": "code",
   "execution_count": 71,
   "metadata": {},
   "outputs": [
    {
     "data": {
      "text/plain": [
       "0.8189038868108636"
      ]
     },
     "execution_count": 71,
     "metadata": {},
     "output_type": "execute_result"
    }
   ],
   "source": [
    "x5 = final_dataset_with_nom[['runtimeMinutes']]\n",
    "\n",
    "y = final_dataset_with_nom.winner\n",
    "lgr = LogisticRegression(max_iter=7000)\n",
    "cross_val_score(lgr, x5, y, cv=5, scoring='accuracy').mean()"
   ]
  },
  {
   "cell_type": "code",
   "execution_count": 72,
   "metadata": {
    "colab": {
     "base_uri": "https://localhost:8080/",
     "height": 34
    },
    "colab_type": "code",
    "id": "PnCuD58StLfa",
    "outputId": "d87d38bc-9a00-472d-81b9-b23939652526"
   },
   "outputs": [
    {
     "data": {
      "text/plain": [
       "0.8766650403859707"
      ]
     },
     "execution_count": 72,
     "metadata": {},
     "output_type": "execute_result"
    }
   ],
   "source": [
    "x1 = final_dataset_with_nom[['nominated_for_bafta']]\n",
    "\n",
    "y = final_dataset_with_nom.winner\n",
    "lgr = LogisticRegression(max_iter=7000)\n",
    "cross_val_score(lgr, x1, y, cv=5, scoring='accuracy').mean()"
   ]
  },
  {
   "cell_type": "code",
   "execution_count": 73,
   "metadata": {
    "colab": {
     "base_uri": "https://localhost:8080/",
     "height": 34
    },
    "colab_type": "code",
    "id": "MKrvwyomFfxG",
    "outputId": "f99f1c63-e670-4159-cf72-001f819fb138"
   },
   "outputs": [
    {
     "data": {
      "text/plain": [
       "0.8445590068845883"
      ]
     },
     "execution_count": 73,
     "metadata": {},
     "output_type": "execute_result"
    }
   ],
   "source": [
    "x2 = final_dataset_with_nom[['nominated_for_sag']]\n",
    "\n",
    "y = final_dataset_with_nom.winner\n",
    "lgr = LogisticRegression(max_iter=7000)\n",
    "cross_val_score(lgr, x2, y, cv=5, scoring='accuracy').mean()"
   ]
  },
  {
   "cell_type": "markdown",
   "metadata": {
    "colab_type": "text",
    "id": "t5LEd3fIEljl"
   },
   "source": [
    "Not as high, so perhaps the combination of features (but not all features) would better predict than just one feature. Let's try out other combinations of features like: BAFTA nomination, genres, and ratings."
   ]
  },
  {
   "cell_type": "code",
   "execution_count": 74,
   "metadata": {
    "colab": {
     "base_uri": "https://localhost:8080/",
     "height": 34
    },
    "colab_type": "code",
    "id": "kDzNTxFry2ll",
    "outputId": "a1316d56-0654-4251-ee02-270c86be8a17"
   },
   "outputs": [
    {
     "data": {
      "text/plain": [
       "0.8668878408413292"
      ]
     },
     "execution_count": 74,
     "metadata": {},
     "output_type": "execute_result"
    }
   ],
   "source": [
    "ct3 = make_column_transformer((OHE, ['nominated_for_bafta']), (IMP, ['genres', 'rating']))\n",
    "p1 = make_pipeline(ct3, lgr)\n",
    "\n",
    "X = final_df\n",
    "\n",
    "Y = final_dataset_with_nom.winner\n",
    "\n",
    "\n",
    "cross_val_score(p1, X, Y, cv=5, scoring='accuracy').mean()\n",
    "\n",
    "#bafta does better than sag"
   ]
  },
  {
   "cell_type": "markdown",
   "metadata": {
    "colab_type": "text",
    "id": "VYvsZCyBFK2R"
   },
   "source": [
    "Not as high as the previous combination, but lets now try: SAG nomination, genres, and rating. "
   ]
  },
  {
   "cell_type": "code",
   "execution_count": 75,
   "metadata": {
    "colab": {
     "base_uri": "https://localhost:8080/",
     "height": 34
    },
    "colab_type": "code",
    "id": "1vM9KUSQzeYu",
    "outputId": "7f1b90db-3a26-45f9-a2b6-72306ccabe82"
   },
   "outputs": [
    {
     "data": {
      "text/plain": [
       "0.8445373231419742"
      ]
     },
     "execution_count": 75,
     "metadata": {},
     "output_type": "execute_result"
    }
   ],
   "source": [
    "ct4 = make_column_transformer((OHE, ['nominated_for_sag']), (IMP, ['genres', 'rating']))\n",
    "p2 = make_pipeline(ct4, lgr)\n",
    "\n",
    "# X = final_df\n",
    "\n",
    "# Y = final_dataset_with_nom.winner\n",
    "\n",
    "\n",
    "cross_val_score(p2, X, Y, cv=5, scoring='accuracy').mean()"
   ]
  },
  {
   "cell_type": "markdown",
   "metadata": {
    "colab_type": "text",
    "id": "-_qKfVtwn-Dc"
   },
   "source": [
    "This is interesting, including the SAG feature and not BAFTA seems to result in a lower prediction accuracy. Let's see what the prediction accuracy is for solely the SAG feature."
   ]
  },
  {
   "cell_type": "markdown",
   "metadata": {
    "colab_type": "text",
    "id": "Jr1LZik0oW99"
   },
   "source": [
    "The SAG feature in fact has a lower prediction accuracy than the previous attempts. It's also interesting to note that the EDA suggests that movies were nominated for an Oscar may not have won a SAG. Thus this could be reflected in the prediction accuracy as the results of SAG wouldn't accurately predict Oscar nomination as well as BAFTA."
   ]
  },
  {
   "cell_type": "code",
   "execution_count": 76,
   "metadata": {},
   "outputs": [
    {
     "data": {
      "text/plain": [
       "0.8766650403859707"
      ]
     },
     "execution_count": 76,
     "metadata": {},
     "output_type": "execute_result"
    }
   ],
   "source": [
    "ct6 = make_column_transformer((OHE, ['nominated_for_bafta']), (IMP, ['genres']))\n",
    "p2 = make_pipeline(ct6, lgr)\n",
    "\n",
    "X = final_df\n",
    "\n",
    "Y = final_dataset_with_nom.winner\n",
    "\n",
    "\n",
    "cross_val_score(p2, X, Y, cv=5, scoring='accuracy').mean()"
   ]
  },
  {
   "cell_type": "code",
   "execution_count": 77,
   "metadata": {
    "colab": {
     "base_uri": "https://localhost:8080/",
     "height": 34
    },
    "colab_type": "code",
    "id": "bZ1Qv45Fz9qp",
    "outputId": "d9018e18-7207-4d29-8e36-8dc09f7057e0"
   },
   "outputs": [
    {
     "data": {
      "text/plain": [
       "0.8445590068845883"
      ]
     },
     "execution_count": 77,
     "metadata": {},
     "output_type": "execute_result"
    }
   ],
   "source": [
    "\n",
    "ct5 = make_column_transformer((OHE, ['nominated_for_sag']), (IMP, ['genres']))\n",
    "p1 = make_pipeline(ct5, lgr)\n",
    "\n",
    "X = final_df\n",
    "\n",
    "Y = final_dataset_with_nom.winner\n",
    "\n",
    "\n",
    "cross_val_score(p1, X, Y, cv=5, scoring='accuracy').mean()"
   ]
  },
  {
   "cell_type": "markdown",
   "metadata": {},
   "source": [
    "Let's put BAFTA back in along with runtime, genres, and ratings."
   ]
  },
  {
   "cell_type": "code",
   "execution_count": 78,
   "metadata": {},
   "outputs": [
    {
     "data": {
      "text/plain": [
       "0.884570932943026"
      ]
     },
     "execution_count": 78,
     "metadata": {},
     "output_type": "execute_result"
    }
   ],
   "source": [
    "ct_0 = make_column_transformer((OHE, ['nominated_for_bafta']), (IMP, ['genres', 'rating', 'runtimeMinutes']))\n",
    "p1 = make_pipeline(ct_0, lgr)\n",
    "\n",
    "X = final_df\n",
    "\n",
    "Y = final_dataset_with_nom.winner\n",
    "\n",
    "\n",
    "cross_val_score(p1, X, Y, cv=5, scoring='accuracy').mean()\n"
   ]
  },
  {
   "cell_type": "markdown",
   "metadata": {
    "colab_type": "text",
    "id": "BbacR2ogtbSN"
   },
   "source": [
    "This seems to give the second highest prediction accuracy out of all the combinations we've tried. \n",
    "\n",
    "This comes to show that a movie's chance of getting nominated for an Oscar relies more on features such as: BAFTA nomination, runtime, genres, and rating. On the other hand, other features such as SAG nomination are less important in predicting an Oscar nomination. \n",
    "\n",
    "While this study isn't definite, it's a good place for movie directors to refer to if they hope to produce a movie that will get nominated for an Oscar. These features are by no means trying to limit the creativity of directors but rather to give them insight through a more business related perspective, which is prominent in the movie industry. "
   ]
  },
  {
   "cell_type": "code",
   "execution_count": null,
   "metadata": {},
   "outputs": [],
   "source": []
  }
 ],
 "metadata": {
  "colab": {
   "collapsed_sections": [],
   "name": "another try.ipynb",
   "provenance": [],
   "toc_visible": true
  },
  "kernelspec": {
   "display_name": "Python 3",
   "language": "python",
   "name": "python3"
  },
  "language_info": {
   "codemirror_mode": {
    "name": "ipython",
    "version": 3
   },
   "file_extension": ".py",
   "mimetype": "text/x-python",
   "name": "python",
   "nbconvert_exporter": "python",
   "pygments_lexer": "ipython3",
   "version": "3.7.6"
  }
 },
 "nbformat": 4,
 "nbformat_minor": 4
}
